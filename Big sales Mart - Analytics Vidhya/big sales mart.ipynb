{
 "cells": [
  {
   "cell_type": "markdown",
   "metadata": {},
   "source": [
    "# competition - big sales mart "
   ]
  },
  {
   "cell_type": "code",
   "execution_count": 123,
   "metadata": {},
   "outputs": [],
   "source": [
    "# importing the required libraries\n",
    "import pandas as pd\n",
    "import numpy as np\n",
    "import matplotlib.pyplot as plt\n",
    "import seaborn as sns\n",
    "from sklearn.linear_model import LinearRegression\n",
    "from sklearn.tree import DecisionTreeRegressor\n",
    "from sklearn.preprocessing import LabelEncoder\n",
    "from sklearn.metrics import mean_squared_error\n",
    "from sklearn.ensemble import RandomForestRegressor"
   ]
  },
  {
   "cell_type": "code",
   "execution_count": 3,
   "metadata": {},
   "outputs": [],
   "source": [
    "train = pd.read_csv(\"C://Users//Rachit//Desktop//great learning - data science engineering//machine learning//big sales mart//Train.csv\")\n",
    "test = pd.read_csv(\"C://Users//Rachit//Desktop//great learning - data science engineering//machine learning//big sales mart//Test_u94Q5KV.csv\")"
   ]
  },
  {
   "cell_type": "code",
   "execution_count": 4,
   "metadata": {},
   "outputs": [
    {
     "data": {
      "text/html": [
       "<div>\n",
       "<style scoped>\n",
       "    .dataframe tbody tr th:only-of-type {\n",
       "        vertical-align: middle;\n",
       "    }\n",
       "\n",
       "    .dataframe tbody tr th {\n",
       "        vertical-align: top;\n",
       "    }\n",
       "\n",
       "    .dataframe thead th {\n",
       "        text-align: right;\n",
       "    }\n",
       "</style>\n",
       "<table border=\"1\" class=\"dataframe\">\n",
       "  <thead>\n",
       "    <tr style=\"text-align: right;\">\n",
       "      <th></th>\n",
       "      <th>Item_Identifier</th>\n",
       "      <th>Item_Weight</th>\n",
       "      <th>Item_Fat_Content</th>\n",
       "      <th>Item_Visibility</th>\n",
       "      <th>Item_Type</th>\n",
       "      <th>Item_MRP</th>\n",
       "      <th>Outlet_Identifier</th>\n",
       "      <th>Outlet_Establishment_Year</th>\n",
       "      <th>Outlet_Size</th>\n",
       "      <th>Outlet_Location_Type</th>\n",
       "      <th>Outlet_Type</th>\n",
       "      <th>Item_Outlet_Sales</th>\n",
       "    </tr>\n",
       "  </thead>\n",
       "  <tbody>\n",
       "    <tr>\n",
       "      <th>0</th>\n",
       "      <td>FDA15</td>\n",
       "      <td>9.30</td>\n",
       "      <td>Low Fat</td>\n",
       "      <td>0.016047</td>\n",
       "      <td>Dairy</td>\n",
       "      <td>249.8092</td>\n",
       "      <td>OUT049</td>\n",
       "      <td>1999</td>\n",
       "      <td>Medium</td>\n",
       "      <td>Tier 1</td>\n",
       "      <td>Supermarket Type1</td>\n",
       "      <td>3735.1380</td>\n",
       "    </tr>\n",
       "    <tr>\n",
       "      <th>1</th>\n",
       "      <td>DRC01</td>\n",
       "      <td>5.92</td>\n",
       "      <td>Regular</td>\n",
       "      <td>0.019278</td>\n",
       "      <td>Soft Drinks</td>\n",
       "      <td>48.2692</td>\n",
       "      <td>OUT018</td>\n",
       "      <td>2009</td>\n",
       "      <td>Medium</td>\n",
       "      <td>Tier 3</td>\n",
       "      <td>Supermarket Type2</td>\n",
       "      <td>443.4228</td>\n",
       "    </tr>\n",
       "    <tr>\n",
       "      <th>2</th>\n",
       "      <td>FDN15</td>\n",
       "      <td>17.50</td>\n",
       "      <td>Low Fat</td>\n",
       "      <td>0.016760</td>\n",
       "      <td>Meat</td>\n",
       "      <td>141.6180</td>\n",
       "      <td>OUT049</td>\n",
       "      <td>1999</td>\n",
       "      <td>Medium</td>\n",
       "      <td>Tier 1</td>\n",
       "      <td>Supermarket Type1</td>\n",
       "      <td>2097.2700</td>\n",
       "    </tr>\n",
       "    <tr>\n",
       "      <th>3</th>\n",
       "      <td>FDX07</td>\n",
       "      <td>19.20</td>\n",
       "      <td>Regular</td>\n",
       "      <td>0.000000</td>\n",
       "      <td>Fruits and Vegetables</td>\n",
       "      <td>182.0950</td>\n",
       "      <td>OUT010</td>\n",
       "      <td>1998</td>\n",
       "      <td>NaN</td>\n",
       "      <td>Tier 3</td>\n",
       "      <td>Grocery Store</td>\n",
       "      <td>732.3800</td>\n",
       "    </tr>\n",
       "    <tr>\n",
       "      <th>4</th>\n",
       "      <td>NCD19</td>\n",
       "      <td>8.93</td>\n",
       "      <td>Low Fat</td>\n",
       "      <td>0.000000</td>\n",
       "      <td>Household</td>\n",
       "      <td>53.8614</td>\n",
       "      <td>OUT013</td>\n",
       "      <td>1987</td>\n",
       "      <td>High</td>\n",
       "      <td>Tier 3</td>\n",
       "      <td>Supermarket Type1</td>\n",
       "      <td>994.7052</td>\n",
       "    </tr>\n",
       "  </tbody>\n",
       "</table>\n",
       "</div>"
      ],
      "text/plain": [
       "  Item_Identifier  Item_Weight Item_Fat_Content  Item_Visibility  \\\n",
       "0           FDA15         9.30          Low Fat         0.016047   \n",
       "1           DRC01         5.92          Regular         0.019278   \n",
       "2           FDN15        17.50          Low Fat         0.016760   \n",
       "3           FDX07        19.20          Regular         0.000000   \n",
       "4           NCD19         8.93          Low Fat         0.000000   \n",
       "\n",
       "               Item_Type  Item_MRP Outlet_Identifier  \\\n",
       "0                  Dairy  249.8092            OUT049   \n",
       "1            Soft Drinks   48.2692            OUT018   \n",
       "2                   Meat  141.6180            OUT049   \n",
       "3  Fruits and Vegetables  182.0950            OUT010   \n",
       "4              Household   53.8614            OUT013   \n",
       "\n",
       "   Outlet_Establishment_Year Outlet_Size Outlet_Location_Type  \\\n",
       "0                       1999      Medium               Tier 1   \n",
       "1                       2009      Medium               Tier 3   \n",
       "2                       1999      Medium               Tier 1   \n",
       "3                       1998         NaN               Tier 3   \n",
       "4                       1987        High               Tier 3   \n",
       "\n",
       "         Outlet_Type  Item_Outlet_Sales  \n",
       "0  Supermarket Type1          3735.1380  \n",
       "1  Supermarket Type2           443.4228  \n",
       "2  Supermarket Type1          2097.2700  \n",
       "3      Grocery Store           732.3800  \n",
       "4  Supermarket Type1           994.7052  "
      ]
     },
     "execution_count": 4,
     "metadata": {},
     "output_type": "execute_result"
    }
   ],
   "source": [
    "train.head()"
   ]
  },
  {
   "cell_type": "code",
   "execution_count": 5,
   "metadata": {},
   "outputs": [
    {
     "data": {
      "text/html": [
       "<div>\n",
       "<style scoped>\n",
       "    .dataframe tbody tr th:only-of-type {\n",
       "        vertical-align: middle;\n",
       "    }\n",
       "\n",
       "    .dataframe tbody tr th {\n",
       "        vertical-align: top;\n",
       "    }\n",
       "\n",
       "    .dataframe thead th {\n",
       "        text-align: right;\n",
       "    }\n",
       "</style>\n",
       "<table border=\"1\" class=\"dataframe\">\n",
       "  <thead>\n",
       "    <tr style=\"text-align: right;\">\n",
       "      <th></th>\n",
       "      <th>Item_Identifier</th>\n",
       "      <th>Item_Weight</th>\n",
       "      <th>Item_Fat_Content</th>\n",
       "      <th>Item_Visibility</th>\n",
       "      <th>Item_Type</th>\n",
       "      <th>Item_MRP</th>\n",
       "      <th>Outlet_Identifier</th>\n",
       "      <th>Outlet_Establishment_Year</th>\n",
       "      <th>Outlet_Size</th>\n",
       "      <th>Outlet_Location_Type</th>\n",
       "      <th>Outlet_Type</th>\n",
       "    </tr>\n",
       "  </thead>\n",
       "  <tbody>\n",
       "    <tr>\n",
       "      <th>0</th>\n",
       "      <td>FDW58</td>\n",
       "      <td>20.750</td>\n",
       "      <td>Low Fat</td>\n",
       "      <td>0.007565</td>\n",
       "      <td>Snack Foods</td>\n",
       "      <td>107.8622</td>\n",
       "      <td>OUT049</td>\n",
       "      <td>1999</td>\n",
       "      <td>Medium</td>\n",
       "      <td>Tier 1</td>\n",
       "      <td>Supermarket Type1</td>\n",
       "    </tr>\n",
       "    <tr>\n",
       "      <th>1</th>\n",
       "      <td>FDW14</td>\n",
       "      <td>8.300</td>\n",
       "      <td>reg</td>\n",
       "      <td>0.038428</td>\n",
       "      <td>Dairy</td>\n",
       "      <td>87.3198</td>\n",
       "      <td>OUT017</td>\n",
       "      <td>2007</td>\n",
       "      <td>NaN</td>\n",
       "      <td>Tier 2</td>\n",
       "      <td>Supermarket Type1</td>\n",
       "    </tr>\n",
       "    <tr>\n",
       "      <th>2</th>\n",
       "      <td>NCN55</td>\n",
       "      <td>14.600</td>\n",
       "      <td>Low Fat</td>\n",
       "      <td>0.099575</td>\n",
       "      <td>Others</td>\n",
       "      <td>241.7538</td>\n",
       "      <td>OUT010</td>\n",
       "      <td>1998</td>\n",
       "      <td>NaN</td>\n",
       "      <td>Tier 3</td>\n",
       "      <td>Grocery Store</td>\n",
       "    </tr>\n",
       "    <tr>\n",
       "      <th>3</th>\n",
       "      <td>FDQ58</td>\n",
       "      <td>7.315</td>\n",
       "      <td>Low Fat</td>\n",
       "      <td>0.015388</td>\n",
       "      <td>Snack Foods</td>\n",
       "      <td>155.0340</td>\n",
       "      <td>OUT017</td>\n",
       "      <td>2007</td>\n",
       "      <td>NaN</td>\n",
       "      <td>Tier 2</td>\n",
       "      <td>Supermarket Type1</td>\n",
       "    </tr>\n",
       "    <tr>\n",
       "      <th>4</th>\n",
       "      <td>FDY38</td>\n",
       "      <td>NaN</td>\n",
       "      <td>Regular</td>\n",
       "      <td>0.118599</td>\n",
       "      <td>Dairy</td>\n",
       "      <td>234.2300</td>\n",
       "      <td>OUT027</td>\n",
       "      <td>1985</td>\n",
       "      <td>Medium</td>\n",
       "      <td>Tier 3</td>\n",
       "      <td>Supermarket Type3</td>\n",
       "    </tr>\n",
       "  </tbody>\n",
       "</table>\n",
       "</div>"
      ],
      "text/plain": [
       "  Item_Identifier  Item_Weight Item_Fat_Content  Item_Visibility    Item_Type  \\\n",
       "0           FDW58       20.750          Low Fat         0.007565  Snack Foods   \n",
       "1           FDW14        8.300              reg         0.038428        Dairy   \n",
       "2           NCN55       14.600          Low Fat         0.099575       Others   \n",
       "3           FDQ58        7.315          Low Fat         0.015388  Snack Foods   \n",
       "4           FDY38          NaN          Regular         0.118599        Dairy   \n",
       "\n",
       "   Item_MRP Outlet_Identifier  Outlet_Establishment_Year Outlet_Size  \\\n",
       "0  107.8622            OUT049                       1999      Medium   \n",
       "1   87.3198            OUT017                       2007         NaN   \n",
       "2  241.7538            OUT010                       1998         NaN   \n",
       "3  155.0340            OUT017                       2007         NaN   \n",
       "4  234.2300            OUT027                       1985      Medium   \n",
       "\n",
       "  Outlet_Location_Type        Outlet_Type  \n",
       "0               Tier 1  Supermarket Type1  \n",
       "1               Tier 2  Supermarket Type1  \n",
       "2               Tier 3      Grocery Store  \n",
       "3               Tier 2  Supermarket Type1  \n",
       "4               Tier 3  Supermarket Type3  "
      ]
     },
     "execution_count": 5,
     "metadata": {},
     "output_type": "execute_result"
    }
   ],
   "source": [
    "test.head()"
   ]
  },
  {
   "cell_type": "code",
   "execution_count": 6,
   "metadata": {},
   "outputs": [
    {
     "data": {
      "text/plain": [
       "Item_Identifier                 0\n",
       "Item_Weight                  1463\n",
       "Item_Fat_Content                0\n",
       "Item_Visibility                 0\n",
       "Item_Type                       0\n",
       "Item_MRP                        0\n",
       "Outlet_Identifier               0\n",
       "Outlet_Establishment_Year       0\n",
       "Outlet_Size                  2410\n",
       "Outlet_Location_Type            0\n",
       "Outlet_Type                     0\n",
       "Item_Outlet_Sales               0\n",
       "dtype: int64"
      ]
     },
     "execution_count": 6,
     "metadata": {},
     "output_type": "execute_result"
    }
   ],
   "source": [
    "train.isnull().sum()"
   ]
  },
  {
   "cell_type": "code",
   "execution_count": 7,
   "metadata": {},
   "outputs": [
    {
     "data": {
      "text/plain": [
       "Item_Identifier                 0\n",
       "Item_Weight                   976\n",
       "Item_Fat_Content                0\n",
       "Item_Visibility                 0\n",
       "Item_Type                       0\n",
       "Item_MRP                        0\n",
       "Outlet_Identifier               0\n",
       "Outlet_Establishment_Year       0\n",
       "Outlet_Size                  1606\n",
       "Outlet_Location_Type            0\n",
       "Outlet_Type                     0\n",
       "dtype: int64"
      ]
     },
     "execution_count": 7,
     "metadata": {},
     "output_type": "execute_result"
    }
   ],
   "source": [
    "test.isnull().sum()"
   ]
  },
  {
   "cell_type": "code",
   "execution_count": 8,
   "metadata": {},
   "outputs": [
    {
     "name": "stdout",
     "output_type": "stream",
     "text": [
      "(8523, 12) (5681, 11)\n"
     ]
    }
   ],
   "source": [
    "x = train.shape\n",
    "y = test.shape\n",
    "print(x,y)"
   ]
  },
  {
   "cell_type": "code",
   "execution_count": 9,
   "metadata": {},
   "outputs": [
    {
     "data": {
      "text/plain": [
       "<matplotlib.axes._subplots.AxesSubplot at 0x208367fd860>"
      ]
     },
     "execution_count": 9,
     "metadata": {},
     "output_type": "execute_result"
    },
    {
     "data": {
      "image/png": "[encoded data removed]",
      "text/plain": [
       "<Figure size 432x288 with 1 Axes>"
      ]
     },
     "metadata": {
      "needs_background": "light"
     },
     "output_type": "display_data"
    }
   ],
   "source": [
    "# Target Variable - Outlet Sales | Univariate Analysis\n",
    "sns.distplot(train.Item_Outlet_Sales)"
   ]
  },
  {
   "cell_type": "code",
   "execution_count": 10,
   "metadata": {},
   "outputs": [
    {
     "data": {
      "text/plain": [
       "count     8523.000000\n",
       "mean      2181.288914\n",
       "std       1706.499616\n",
       "min         33.290000\n",
       "25%        834.247400\n",
       "50%       1794.331000\n",
       "75%       3101.296400\n",
       "max      13086.964800\n",
       "Name: Item_Outlet_Sales, dtype: float64"
      ]
     },
     "execution_count": 10,
     "metadata": {},
     "output_type": "execute_result"
    }
   ],
   "source": [
    "train.Item_Outlet_Sales.describe()"
   ]
  },
  {
   "cell_type": "code",
   "execution_count": 11,
   "metadata": {},
   "outputs": [
    {
     "data": {
      "text/plain": [
       "Index(['Item_Identifier', 'Item_Weight', 'Item_Fat_Content', 'Item_Visibility',\n",
       "       'Item_Type', 'Item_MRP', 'Outlet_Identifier',\n",
       "       'Outlet_Establishment_Year', 'Outlet_Size', 'Outlet_Location_Type',\n",
       "       'Outlet_Type', 'Item_Outlet_Sales'],\n",
       "      dtype='object')"
      ]
     },
     "execution_count": 11,
     "metadata": {},
     "output_type": "execute_result"
    }
   ],
   "source": [
    "train.columns"
   ]
  },
  {
   "cell_type": "code",
   "execution_count": 12,
   "metadata": {},
   "outputs": [],
   "source": [
    "a = pd.notnull(train.Item_Weight)"
   ]
  },
  {
   "cell_type": "code",
   "execution_count": 13,
   "metadata": {},
   "outputs": [
    {
     "data": {
      "text/plain": [
       "<matplotlib.axes._subplots.AxesSubplot at 0x20836a82b38>"
      ]
     },
     "execution_count": 13,
     "metadata": {},
     "output_type": "execute_result"
    },
    {
     "data": {
      "image/png": "[encoded data removed]",
      "text/plain": [
       "<Figure size 432x288 with 1 Axes>"
      ]
     },
     "metadata": {
      "needs_background": "light"
     },
     "output_type": "display_data"
    }
   ],
   "source": [
    "sns.distplot(train[a][\"Item_Weight\"])"
   ]
  },
  {
   "cell_type": "code",
   "execution_count": 14,
   "metadata": {},
   "outputs": [
    {
     "data": {
      "text/plain": [
       "<matplotlib.axes._subplots.AxesSubplot at 0x2083676ff98>"
      ]
     },
     "execution_count": 14,
     "metadata": {},
     "output_type": "execute_result"
    },
    {
     "data": {
      "image/png": "[encoded data removed]",
      "text/plain": [
       "<Figure size 432x288 with 1 Axes>"
      ]
     },
     "metadata": {
      "needs_background": "light"
     },
     "output_type": "display_data"
    }
   ],
   "source": [
    "sns.distplot(train.Item_Visibility)"
   ]
  },
  {
   "cell_type": "code",
   "execution_count": 15,
   "metadata": {},
   "outputs": [
    {
     "data": {
      "text/plain": [
       "<matplotlib.collections.PathCollection at 0x20836c1a6d8>"
      ]
     },
     "execution_count": 15,
     "metadata": {},
     "output_type": "execute_result"
    },
    {
     "data": {
      "image/png": "[encoded data removed]",
      "text/plain": [
       "<Figure size 720x432 with 1 Axes>"
      ]
     },
     "metadata": {
      "needs_background": "light"
     },
     "output_type": "display_data"
    }
   ],
   "source": [
    "plt.figure(figsize=[10, 6])\n",
    "plt.scatter(train.Item_Visibility, train.Item_Outlet_Sales, color = 'magenta')"
   ]
  },
  {
   "cell_type": "code",
   "execution_count": 16,
   "metadata": {},
   "outputs": [
    {
     "data": {
      "text/plain": [
       "<matplotlib.collections.PathCollection at 0x20836c6fcf8>"
      ]
     },
     "execution_count": 16,
     "metadata": {},
     "output_type": "execute_result"
    },
    {
     "data": {
      "image/png": "[encoded data removed]",
      "text/plain": [
       "<Figure size 720x432 with 1 Axes>"
      ]
     },
     "metadata": {
      "needs_background": "light"
     },
     "output_type": "display_data"
    }
   ],
   "source": [
    "# Plot MRP vs Outlet Sales\n",
    "plt.figure(figsize=[10, 6])\n",
    "plt.scatter(train.Item_MRP/train.Item_Weight, \n",
    "            train.Item_Outlet_Sales, color = \"red\")"
   ]
  },
  {
   "cell_type": "code",
   "execution_count": 17,
   "metadata": {},
   "outputs": [],
   "source": [
    "# creating a new variable called price_per_unit\n",
    "train[\"Price_Per_Unit\"] = train.Item_MRP/train.Item_Weight\n",
    "test[\"Price_Per_Unit\"] = test.Item_MRP/test.Item_Weight"
   ]
  },
  {
   "cell_type": "code",
   "execution_count": 18,
   "metadata": {},
   "outputs": [
    {
     "data": {
      "text/html": [
       "<div>\n",
       "<style scoped>\n",
       "    .dataframe tbody tr th:only-of-type {\n",
       "        vertical-align: middle;\n",
       "    }\n",
       "\n",
       "    .dataframe tbody tr th {\n",
       "        vertical-align: top;\n",
       "    }\n",
       "\n",
       "    .dataframe thead th {\n",
       "        text-align: right;\n",
       "    }\n",
       "</style>\n",
       "<table border=\"1\" class=\"dataframe\">\n",
       "  <thead>\n",
       "    <tr style=\"text-align: right;\">\n",
       "      <th></th>\n",
       "      <th>Item_Identifier</th>\n",
       "      <th>Item_Weight</th>\n",
       "      <th>Item_Fat_Content</th>\n",
       "      <th>Item_Visibility</th>\n",
       "      <th>Item_Type</th>\n",
       "      <th>Item_MRP</th>\n",
       "      <th>Outlet_Identifier</th>\n",
       "      <th>Outlet_Establishment_Year</th>\n",
       "      <th>Outlet_Size</th>\n",
       "      <th>Outlet_Location_Type</th>\n",
       "      <th>Outlet_Type</th>\n",
       "      <th>Item_Outlet_Sales</th>\n",
       "      <th>Price_Per_Unit</th>\n",
       "    </tr>\n",
       "  </thead>\n",
       "  <tbody>\n",
       "    <tr>\n",
       "      <th>0</th>\n",
       "      <td>FDA15</td>\n",
       "      <td>9.30</td>\n",
       "      <td>Low Fat</td>\n",
       "      <td>0.016047</td>\n",
       "      <td>Dairy</td>\n",
       "      <td>249.8092</td>\n",
       "      <td>OUT049</td>\n",
       "      <td>1999</td>\n",
       "      <td>Medium</td>\n",
       "      <td>Tier 1</td>\n",
       "      <td>Supermarket Type1</td>\n",
       "      <td>3735.1380</td>\n",
       "      <td>26.861204</td>\n",
       "    </tr>\n",
       "    <tr>\n",
       "      <th>1</th>\n",
       "      <td>DRC01</td>\n",
       "      <td>5.92</td>\n",
       "      <td>Regular</td>\n",
       "      <td>0.019278</td>\n",
       "      <td>Soft Drinks</td>\n",
       "      <td>48.2692</td>\n",
       "      <td>OUT018</td>\n",
       "      <td>2009</td>\n",
       "      <td>Medium</td>\n",
       "      <td>Tier 3</td>\n",
       "      <td>Supermarket Type2</td>\n",
       "      <td>443.4228</td>\n",
       "      <td>8.153581</td>\n",
       "    </tr>\n",
       "    <tr>\n",
       "      <th>2</th>\n",
       "      <td>FDN15</td>\n",
       "      <td>17.50</td>\n",
       "      <td>Low Fat</td>\n",
       "      <td>0.016760</td>\n",
       "      <td>Meat</td>\n",
       "      <td>141.6180</td>\n",
       "      <td>OUT049</td>\n",
       "      <td>1999</td>\n",
       "      <td>Medium</td>\n",
       "      <td>Tier 1</td>\n",
       "      <td>Supermarket Type1</td>\n",
       "      <td>2097.2700</td>\n",
       "      <td>8.092457</td>\n",
       "    </tr>\n",
       "    <tr>\n",
       "      <th>3</th>\n",
       "      <td>FDX07</td>\n",
       "      <td>19.20</td>\n",
       "      <td>Regular</td>\n",
       "      <td>0.000000</td>\n",
       "      <td>Fruits and Vegetables</td>\n",
       "      <td>182.0950</td>\n",
       "      <td>OUT010</td>\n",
       "      <td>1998</td>\n",
       "      <td>NaN</td>\n",
       "      <td>Tier 3</td>\n",
       "      <td>Grocery Store</td>\n",
       "      <td>732.3800</td>\n",
       "      <td>9.484115</td>\n",
       "    </tr>\n",
       "    <tr>\n",
       "      <th>4</th>\n",
       "      <td>NCD19</td>\n",
       "      <td>8.93</td>\n",
       "      <td>Low Fat</td>\n",
       "      <td>0.000000</td>\n",
       "      <td>Household</td>\n",
       "      <td>53.8614</td>\n",
       "      <td>OUT013</td>\n",
       "      <td>1987</td>\n",
       "      <td>High</td>\n",
       "      <td>Tier 3</td>\n",
       "      <td>Supermarket Type1</td>\n",
       "      <td>994.7052</td>\n",
       "      <td>6.031512</td>\n",
       "    </tr>\n",
       "  </tbody>\n",
       "</table>\n",
       "</div>"
      ],
      "text/plain": [
       "  Item_Identifier  Item_Weight Item_Fat_Content  Item_Visibility  \\\n",
       "0           FDA15         9.30          Low Fat         0.016047   \n",
       "1           DRC01         5.92          Regular         0.019278   \n",
       "2           FDN15        17.50          Low Fat         0.016760   \n",
       "3           FDX07        19.20          Regular         0.000000   \n",
       "4           NCD19         8.93          Low Fat         0.000000   \n",
       "\n",
       "               Item_Type  Item_MRP Outlet_Identifier  \\\n",
       "0                  Dairy  249.8092            OUT049   \n",
       "1            Soft Drinks   48.2692            OUT018   \n",
       "2                   Meat  141.6180            OUT049   \n",
       "3  Fruits and Vegetables  182.0950            OUT010   \n",
       "4              Household   53.8614            OUT013   \n",
       "\n",
       "   Outlet_Establishment_Year Outlet_Size Outlet_Location_Type  \\\n",
       "0                       1999      Medium               Tier 1   \n",
       "1                       2009      Medium               Tier 3   \n",
       "2                       1999      Medium               Tier 1   \n",
       "3                       1998         NaN               Tier 3   \n",
       "4                       1987        High               Tier 3   \n",
       "\n",
       "         Outlet_Type  Item_Outlet_Sales  Price_Per_Unit  \n",
       "0  Supermarket Type1          3735.1380       26.861204  \n",
       "1  Supermarket Type2           443.4228        8.153581  \n",
       "2  Supermarket Type1          2097.2700        8.092457  \n",
       "3      Grocery Store           732.3800        9.484115  \n",
       "4  Supermarket Type1           994.7052        6.031512  "
      ]
     },
     "execution_count": 18,
     "metadata": {},
     "output_type": "execute_result"
    }
   ],
   "source": [
    "train.head()"
   ]
  },
  {
   "cell_type": "code",
   "execution_count": 53,
   "metadata": {},
   "outputs": [
    {
     "data": {
      "text/html": [
       "<div>\n",
       "<style scoped>\n",
       "    .dataframe tbody tr th:only-of-type {\n",
       "        vertical-align: middle;\n",
       "    }\n",
       "\n",
       "    .dataframe tbody tr th {\n",
       "        vertical-align: top;\n",
       "    }\n",
       "\n",
       "    .dataframe thead th {\n",
       "        text-align: right;\n",
       "    }\n",
       "</style>\n",
       "<table border=\"1\" class=\"dataframe\">\n",
       "  <thead>\n",
       "    <tr style=\"text-align: right;\">\n",
       "      <th></th>\n",
       "      <th>Item_Identifier</th>\n",
       "      <th>Item_Weight</th>\n",
       "      <th>Item_Fat_Content</th>\n",
       "      <th>Item_Visibility</th>\n",
       "      <th>Item_Type</th>\n",
       "      <th>Item_MRP</th>\n",
       "      <th>Outlet_Identifier</th>\n",
       "      <th>Outlet_Establishment_Year</th>\n",
       "      <th>Outlet_Size</th>\n",
       "      <th>Outlet_Location_Type</th>\n",
       "      <th>Outlet_Type</th>\n",
       "      <th>Price_Per_Unit</th>\n",
       "      <th>Item_id</th>\n",
       "    </tr>\n",
       "  </thead>\n",
       "  <tbody>\n",
       "    <tr>\n",
       "      <th>0</th>\n",
       "      <td>FDW58</td>\n",
       "      <td>20.750</td>\n",
       "      <td>Low Fat</td>\n",
       "      <td>0.007565</td>\n",
       "      <td>Snack Foods</td>\n",
       "      <td>107.8622</td>\n",
       "      <td>OUT049</td>\n",
       "      <td>1999</td>\n",
       "      <td>Medium</td>\n",
       "      <td>Tier 1</td>\n",
       "      <td>Supermarket Type1</td>\n",
       "      <td>5.198178</td>\n",
       "      <td>FD</td>\n",
       "    </tr>\n",
       "    <tr>\n",
       "      <th>1</th>\n",
       "      <td>FDW14</td>\n",
       "      <td>8.300</td>\n",
       "      <td>Regular</td>\n",
       "      <td>0.038428</td>\n",
       "      <td>Dairy</td>\n",
       "      <td>87.3198</td>\n",
       "      <td>OUT017</td>\n",
       "      <td>2007</td>\n",
       "      <td>2793</td>\n",
       "      <td>Tier 2</td>\n",
       "      <td>Supermarket Type1</td>\n",
       "      <td>10.520458</td>\n",
       "      <td>FD</td>\n",
       "    </tr>\n",
       "    <tr>\n",
       "      <th>2</th>\n",
       "      <td>NCN55</td>\n",
       "      <td>14.600</td>\n",
       "      <td>Low Fat</td>\n",
       "      <td>0.099575</td>\n",
       "      <td>Others</td>\n",
       "      <td>241.7538</td>\n",
       "      <td>OUT010</td>\n",
       "      <td>1998</td>\n",
       "      <td>2793</td>\n",
       "      <td>Tier 3</td>\n",
       "      <td>Grocery Store</td>\n",
       "      <td>16.558479</td>\n",
       "      <td>NC</td>\n",
       "    </tr>\n",
       "    <tr>\n",
       "      <th>3</th>\n",
       "      <td>FDQ58</td>\n",
       "      <td>7.315</td>\n",
       "      <td>Low Fat</td>\n",
       "      <td>0.015388</td>\n",
       "      <td>Snack Foods</td>\n",
       "      <td>155.0340</td>\n",
       "      <td>OUT017</td>\n",
       "      <td>2007</td>\n",
       "      <td>2793</td>\n",
       "      <td>Tier 2</td>\n",
       "      <td>Supermarket Type1</td>\n",
       "      <td>21.193985</td>\n",
       "      <td>FD</td>\n",
       "    </tr>\n",
       "    <tr>\n",
       "      <th>4</th>\n",
       "      <td>FDY38</td>\n",
       "      <td>12.600</td>\n",
       "      <td>Regular</td>\n",
       "      <td>0.118599</td>\n",
       "      <td>Dairy</td>\n",
       "      <td>234.2300</td>\n",
       "      <td>OUT027</td>\n",
       "      <td>1985</td>\n",
       "      <td>Medium</td>\n",
       "      <td>Tier 3</td>\n",
       "      <td>Supermarket Type3</td>\n",
       "      <td>12.740000</td>\n",
       "      <td>FD</td>\n",
       "    </tr>\n",
       "  </tbody>\n",
       "</table>\n",
       "</div>"
      ],
      "text/plain": [
       "  Item_Identifier  Item_Weight Item_Fat_Content  Item_Visibility    Item_Type  \\\n",
       "0           FDW58       20.750          Low Fat         0.007565  Snack Foods   \n",
       "1           FDW14        8.300          Regular         0.038428        Dairy   \n",
       "2           NCN55       14.600          Low Fat         0.099575       Others   \n",
       "3           FDQ58        7.315          Low Fat         0.015388  Snack Foods   \n",
       "4           FDY38       12.600          Regular         0.118599        Dairy   \n",
       "\n",
       "   Item_MRP Outlet_Identifier  Outlet_Establishment_Year Outlet_Size  \\\n",
       "0  107.8622            OUT049                       1999      Medium   \n",
       "1   87.3198            OUT017                       2007        2793   \n",
       "2  241.7538            OUT010                       1998        2793   \n",
       "3  155.0340            OUT017                       2007        2793   \n",
       "4  234.2300            OUT027                       1985      Medium   \n",
       "\n",
       "  Outlet_Location_Type        Outlet_Type  Price_Per_Unit Item_id  \n",
       "0               Tier 1  Supermarket Type1        5.198178      FD  \n",
       "1               Tier 2  Supermarket Type1       10.520458      FD  \n",
       "2               Tier 3      Grocery Store       16.558479      NC  \n",
       "3               Tier 2  Supermarket Type1       21.193985      FD  \n",
       "4               Tier 3  Supermarket Type3       12.740000      FD  "
      ]
     },
     "execution_count": 53,
     "metadata": {},
     "output_type": "execute_result"
    }
   ],
   "source": [
    "test.head()"
   ]
  },
  {
   "cell_type": "code",
   "execution_count": 23,
   "metadata": {},
   "outputs": [
    {
     "data": {
      "text/plain": [
       "<matplotlib.axes._subplots.AxesSubplot at 0x20836bd5470>"
      ]
     },
     "execution_count": 23,
     "metadata": {},
     "output_type": "execute_result"
    },
    {
     "data": {
      "image/png": "[encoded data removed]",
      "text/plain": [
       "<Figure size 432x288 with 1 Axes>"
      ]
     },
     "metadata": {
      "needs_background": "light"
     },
     "output_type": "display_data"
    }
   ],
   "source": [
    "# Item Fat Content\n",
    "sns.countplot(train.Item_Fat_Content)"
   ]
  },
  {
   "cell_type": "code",
   "execution_count": 23,
   "metadata": {},
   "outputs": [],
   "source": [
    "# making copy of train\n",
    "train_copy = train"
   ]
  },
  {
   "cell_type": "code",
   "execution_count": 21,
   "metadata": {},
   "outputs": [],
   "source": [
    "# Merging lf, lowfat and reg in LowFat and Regular | Train\n",
    "train.Item_Fat_Content.replace(to_replace=[\"LF\", \"low fat\", \"reg\"], \n",
    "                        value = [\"Low Fat\", \"Low Fat\", \"Regular\"], \n",
    "                               inplace = True)"
   ]
  },
  {
   "cell_type": "code",
   "execution_count": 22,
   "metadata": {},
   "outputs": [],
   "source": [
    "# Merging lf, lowfat and reg in LowFat and Regular | Test\n",
    "test.Item_Fat_Content.replace(to_replace=[\"LF\", \"low fat\", \"reg\"], \n",
    "                        value = [\"Low Fat\", \"Low Fat\", \"Regular\"], \n",
    "                               inplace = True)"
   ]
  },
  {
   "cell_type": "code",
   "execution_count": 24,
   "metadata": {},
   "outputs": [
    {
     "data": {
      "text/plain": [
       "Low Fat    3668\n",
       "Regular    2013\n",
       "Name: Item_Fat_Content, dtype: int64"
      ]
     },
     "execution_count": 24,
     "metadata": {},
     "output_type": "execute_result"
    }
   ],
   "source": [
    "test.Item_Fat_Content.value_counts()"
   ]
  },
  {
   "cell_type": "code",
   "execution_count": 25,
   "metadata": {},
   "outputs": [
    {
     "data": {
      "text/plain": [
       "(array([ 0,  1,  2,  3,  4,  5,  6,  7,  8,  9, 10, 11, 12, 13, 14, 15]),\n",
       " <a list of 16 Text xticklabel objects>)"
      ]
     },
     "execution_count": 25,
     "metadata": {},
     "output_type": "execute_result"
    },
    {
     "data": {
      "image/png": "[encoded data removed]",
      "text/plain": [
       "<Figure size 576x360 with 1 Axes>"
      ]
     },
     "metadata": {
      "needs_background": "light"
     },
     "output_type": "display_data"
    }
   ],
   "source": [
    "# Item Type\n",
    "plt.figure(figsize=[8,5])\n",
    "sns.countplot(train.Item_Type)\n",
    "plt.xticks(rotation = 90)"
   ]
  },
  {
   "cell_type": "code",
   "execution_count": 26,
   "metadata": {},
   "outputs": [
    {
     "data": {
      "text/plain": [
       "(array([ 0,  1,  2,  3,  4,  5,  6,  7,  8,  9, 10, 11, 12, 13, 14, 15]),\n",
       " <a list of 16 Text xticklabel objects>)"
      ]
     },
     "execution_count": 26,
     "metadata": {},
     "output_type": "execute_result"
    },
    {
     "data": {
      "image/png": "[encoded data removed]",
      "text/plain": [
       "<Figure size 576x360 with 1 Axes>"
      ]
     },
     "metadata": {
      "needs_background": "light"
     },
     "output_type": "display_data"
    }
   ],
   "source": [
    "plt.figure(figsize=[8,5])\n",
    "sns.countplot(test.Item_Type)\n",
    "plt.xticks(rotation = 90)"
   ]
  },
  {
   "cell_type": "code",
   "execution_count": 27,
   "metadata": {},
   "outputs": [
    {
     "name": "stdout",
     "output_type": "stream",
     "text": [
      "Index(['Item_Identifier', 'Item_Weight', 'Item_Fat_Content', 'Item_Visibility',\n",
      "       'Item_Type', 'Item_MRP', 'Outlet_Identifier',\n",
      "       'Outlet_Establishment_Year', 'Outlet_Size', 'Outlet_Location_Type',\n",
      "       'Outlet_Type', 'Item_Outlet_Sales', 'Price_Per_Unit'],\n",
      "      dtype='object')\n",
      "(8523, 13)\n",
      "(5681, 12)\n"
     ]
    }
   ],
   "source": [
    "print(train.columns)\n",
    "print(train.shape)\n",
    "print(test.shape)"
   ]
  },
  {
   "cell_type": "code",
   "execution_count": 28,
   "metadata": {},
   "outputs": [
    {
     "data": {
      "text/plain": [
       "(array([ 0,  1,  2,  3,  4,  5,  6,  7,  8,  9, 10, 11, 12, 13, 14, 15]),\n",
       " <a list of 16 Text xticklabel objects>)"
      ]
     },
     "execution_count": 28,
     "metadata": {},
     "output_type": "execute_result"
    },
    {
     "data": {
      "image/png": "[encoded data removed]",
      "text/plain": [
       "<Figure size 432x288 with 1 Axes>"
      ]
     },
     "metadata": {
      "needs_background": "light"
     },
     "output_type": "display_data"
    }
   ],
   "source": [
    "sns.barplot(x = \"Item_Type\", y = \"Item_Outlet_Sales\", data = train)\n",
    "plt.xticks(rotation = 90)"
   ]
  },
  {
   "cell_type": "code",
   "execution_count": 29,
   "metadata": {},
   "outputs": [
    {
     "data": {
      "text/plain": [
       "(array([0, 1, 2, 3, 4, 5, 6, 7, 8, 9]), <a list of 10 Text xticklabel objects>)"
      ]
     },
     "execution_count": 29,
     "metadata": {},
     "output_type": "execute_result"
    },
    {
     "data": {
      "image/png": "[encoded data removed]",
      "text/plain": [
       "<Figure size 432x288 with 1 Axes>"
      ]
     },
     "metadata": {
      "needs_background": "light"
     },
     "output_type": "display_data"
    }
   ],
   "source": [
    "sns.countplot(train.Outlet_Identifier)\n",
    "plt.xticks(rotation = 90)"
   ]
  },
  {
   "cell_type": "markdown",
   "metadata": {},
   "source": [
    "# Missing values"
   ]
  },
  {
   "cell_type": "code",
   "execution_count": 30,
   "metadata": {},
   "outputs": [
    {
     "data": {
      "text/plain": [
       "count    7060.000000\n",
       "mean       12.857645\n",
       "std         4.643456\n",
       "min         4.555000\n",
       "25%         8.773750\n",
       "50%        12.600000\n",
       "75%        16.850000\n",
       "max        21.350000\n",
       "Name: Item_Weight, dtype: float64"
      ]
     },
     "execution_count": 30,
     "metadata": {},
     "output_type": "execute_result"
    }
   ],
   "source": [
    "# Item Weight and Outlet Size\n",
    "train.Item_Weight.describe()"
   ]
  },
  {
   "cell_type": "code",
   "execution_count": 34,
   "metadata": {},
   "outputs": [],
   "source": [
    "train.Item_Weight.fillna(value = 12.6, inplace = True)\n",
    "test.Item_Weight.fillna(value = 12.6, inplace = True)"
   ]
  },
  {
   "cell_type": "code",
   "execution_count": 42,
   "metadata": {},
   "outputs": [
    {
     "name": "stdout",
     "output_type": "stream",
     "text": [
      "Item_Identifier              0\n",
      "Item_Weight                  0\n",
      "Item_Fat_Content             0\n",
      "Item_Visibility              0\n",
      "Item_Type                    0\n",
      "Item_MRP                     0\n",
      "Outlet_Identifier            0\n",
      "Outlet_Establishment_Year    0\n",
      "Outlet_Size                  0\n",
      "Outlet_Location_Type         0\n",
      "Outlet_Type                  0\n",
      "Item_Outlet_Sales            0\n",
      "Price_Per_Unit               0\n",
      "dtype: int64\n",
      "Item_Identifier              0\n",
      "Item_Weight                  0\n",
      "Item_Fat_Content             0\n",
      "Item_Visibility              0\n",
      "Item_Type                    0\n",
      "Item_MRP                     0\n",
      "Outlet_Identifier            0\n",
      "Outlet_Establishment_Year    0\n",
      "Outlet_Size                  0\n",
      "Outlet_Location_Type         0\n",
      "Outlet_Type                  0\n",
      "Price_Per_Unit               0\n",
      "dtype: int64\n"
     ]
    }
   ],
   "source": [
    "print(train.isnull().sum())\n",
    "print(test.isnull().sum())"
   ]
  },
  {
   "cell_type": "code",
   "execution_count": 35,
   "metadata": {},
   "outputs": [],
   "source": [
    "train.Outlet_Size.fillna(value = 2793, inplace = True )\n",
    "test.Outlet_Size.fillna(value = 2793, inplace = True )"
   ]
  },
  {
   "cell_type": "code",
   "execution_count": 36,
   "metadata": {},
   "outputs": [],
   "source": [
    "train.Price_Per_Unit.fillna(value = 12.74, inplace = True)\n",
    "test.Price_Per_Unit.fillna(value = 12.74, inplace = True)\n"
   ]
  },
  {
   "cell_type": "code",
   "execution_count": 39,
   "metadata": {},
   "outputs": [
    {
     "data": {
      "text/plain": [
       "count    5681.000000\n",
       "mean        0.069049\n",
       "std         0.048535\n",
       "min         0.003591\n",
       "25%         0.033208\n",
       "50%         0.054154\n",
       "75%         0.093463\n",
       "max         0.323637\n",
       "Name: Item_Visibility, dtype: float64"
      ]
     },
     "execution_count": 39,
     "metadata": {},
     "output_type": "execute_result"
    }
   ],
   "source": [
    "# Item Visibility\n",
    "test.Item_Visibility.describe()"
   ]
  },
  {
   "cell_type": "code",
   "execution_count": 38,
   "metadata": {},
   "outputs": [],
   "source": [
    "train.Item_Visibility.replace(to_replace=0, value = 0.053931, inplace = True)\n",
    "test.Item_Visibility.replace(to_replace=0, value = 0.054154, inplace = True)\n",
    "\n"
   ]
  },
  {
   "cell_type": "code",
   "execution_count": 41,
   "metadata": {},
   "outputs": [
    {
     "data": {
      "text/plain": [
       "<matplotlib.collections.PathCollection at 0x2083803fe80>"
      ]
     },
     "execution_count": 41,
     "metadata": {},
     "output_type": "execute_result"
    },
    {
     "data": {
      "image/png": "[encoded data removed]",
      "text/plain": [
       "<Figure size 432x288 with 1 Axes>"
      ]
     },
     "metadata": {
      "needs_background": "light"
     },
     "output_type": "display_data"
    }
   ],
   "source": [
    "plt.scatter(train.Item_Visibility, train.Item_Outlet_Sales, c = \"Green\")"
   ]
  },
  {
   "cell_type": "code",
   "execution_count": 44,
   "metadata": {},
   "outputs": [],
   "source": [
    "train.Outlet_Size.fillna(value = \"Medium\", inplace = True)"
   ]
  },
  {
   "cell_type": "code",
   "execution_count": 45,
   "metadata": {},
   "outputs": [],
   "source": [
    "test.Outlet_Size.fillna(value = \"Medium\", inplace = True)\n"
   ]
  },
  {
   "cell_type": "code",
   "execution_count": 46,
   "metadata": {},
   "outputs": [
    {
     "data": {
      "text/plain": [
       "Item_Identifier              0\n",
       "Item_Weight                  0\n",
       "Item_Fat_Content             0\n",
       "Item_Visibility              0\n",
       "Item_Type                    0\n",
       "Item_MRP                     0\n",
       "Outlet_Identifier            0\n",
       "Outlet_Establishment_Year    0\n",
       "Outlet_Size                  0\n",
       "Outlet_Location_Type         0\n",
       "Outlet_Type                  0\n",
       "Item_Outlet_Sales            0\n",
       "Price_Per_Unit               0\n",
       "dtype: int64"
      ]
     },
     "execution_count": 46,
     "metadata": {},
     "output_type": "execute_result"
    }
   ],
   "source": [
    "train.isnull().sum()"
   ]
  },
  {
   "cell_type": "code",
   "execution_count": 49,
   "metadata": {},
   "outputs": [
    {
     "data": {
      "text/plain": [
       "'NC'"
      ]
     },
     "execution_count": 49,
     "metadata": {},
     "output_type": "execute_result"
    }
   ],
   "source": [
    "# We can Extract first two letters of ID which have significant relation with Type\n",
    "train.Item_Identifier[4][0:2]"
   ]
  },
  {
   "cell_type": "code",
   "execution_count": 51,
   "metadata": {},
   "outputs": [],
   "source": [
    "itemid = []\n",
    "\n",
    "for i in range(0, 5681):\n",
    "    itemid.append(test.Item_Identifier[i][0:2])"
   ]
  },
  {
   "cell_type": "code",
   "execution_count": 52,
   "metadata": {},
   "outputs": [],
   "source": [
    "test[\"Item_id\"] = pd.Series(itemid)"
   ]
  },
  {
   "cell_type": "code",
   "execution_count": 56,
   "metadata": {},
   "outputs": [],
   "source": [
    "train[\"Item_id\"] = pd.Series(itemid)"
   ]
  },
  {
   "cell_type": "code",
   "execution_count": 57,
   "metadata": {},
   "outputs": [
    {
     "data": {
      "text/plain": [
       "array(['Dairy', 'Soft Drinks', 'Meat', 'Fruits and Vegetables',\n",
       "       'Household', 'Baking Goods', 'Snack Foods', 'Frozen Foods',\n",
       "       'Breakfast', 'Health and Hygiene', 'Hard Drinks', 'Canned',\n",
       "       'Breads', 'Starchy Foods', 'Others', 'Seafood'], dtype=object)"
      ]
     },
     "execution_count": 57,
     "metadata": {},
     "output_type": "execute_result"
    }
   ],
   "source": [
    "train.Item_Type.unique()"
   ]
  },
  {
   "cell_type": "code",
   "execution_count": 58,
   "metadata": {},
   "outputs": [
    {
     "data": {
      "text/plain": [
       "Index(['Item_Identifier', 'Item_Weight', 'Item_Fat_Content', 'Item_Visibility',\n",
       "       'Item_Type', 'Item_MRP', 'Outlet_Identifier',\n",
       "       'Outlet_Establishment_Year', 'Outlet_Size', 'Outlet_Location_Type',\n",
       "       'Outlet_Type', 'Item_Outlet_Sales', 'Price_Per_Unit', 'Item_id'],\n",
       "      dtype='object')"
      ]
     },
     "execution_count": 58,
     "metadata": {},
     "output_type": "execute_result"
    }
   ],
   "source": [
    "train.columns"
   ]
  },
  {
   "cell_type": "code",
   "execution_count": 59,
   "metadata": {},
   "outputs": [
    {
     "data": {
      "text/plain": [
       "Index(['Item_Identifier', 'Item_Weight', 'Item_Fat_Content', 'Item_Visibility',\n",
       "       'Item_Type', 'Item_MRP', 'Outlet_Identifier',\n",
       "       'Outlet_Establishment_Year', 'Outlet_Size', 'Outlet_Location_Type',\n",
       "       'Outlet_Type', 'Price_Per_Unit', 'Item_id'],\n",
       "      dtype='object')"
      ]
     },
     "execution_count": 59,
     "metadata": {},
     "output_type": "execute_result"
    }
   ],
   "source": [
    "test.columns"
   ]
  },
  {
   "cell_type": "code",
   "execution_count": 60,
   "metadata": {},
   "outputs": [],
   "source": [
    "# Lets Scales the data\n",
    "from sklearn.preprocessing import StandardScaler, LabelEncoder"
   ]
  },
  {
   "cell_type": "code",
   "execution_count": 61,
   "metadata": {},
   "outputs": [],
   "source": [
    "# Delete the ITem ID from Train and Test\n",
    "newtrain = train.drop(\"Item_Identifier\", axis = 1)"
   ]
  },
  {
   "cell_type": "code",
   "execution_count": 62,
   "metadata": {},
   "outputs": [],
   "source": [
    "newtest = test.drop(\"Item_Identifier\", axis = 1)"
   ]
  },
  {
   "cell_type": "code",
   "execution_count": 63,
   "metadata": {},
   "outputs": [],
   "source": [
    "newtrain = newtrain.drop(\"Outlet_Establishment_Year\", axis  =1)"
   ]
  },
  {
   "cell_type": "code",
   "execution_count": 64,
   "metadata": {},
   "outputs": [],
   "source": [
    "newtest = newtest.drop(\"Outlet_Establishment_Year\", axis  =1)"
   ]
  },
  {
   "cell_type": "code",
   "execution_count": 67,
   "metadata": {},
   "outputs": [],
   "source": [
    "# Applying get dummies OHE\n",
    "ohe_train = pd.get_dummies(newtrain)"
   ]
  },
  {
   "cell_type": "code",
   "execution_count": 68,
   "metadata": {},
   "outputs": [],
   "source": [
    "ohe_test = pd.get_dummies(newtest)"
   ]
  },
  {
   "cell_type": "code",
   "execution_count": 69,
   "metadata": {},
   "outputs": [
    {
     "data": {
      "text/plain": [
       "(8523, 47)"
      ]
     },
     "execution_count": 69,
     "metadata": {},
     "output_type": "execute_result"
    }
   ],
   "source": [
    "ohe_train.shape"
   ]
  },
  {
   "cell_type": "code",
   "execution_count": 70,
   "metadata": {},
   "outputs": [
    {
     "data": {
      "text/plain": [
       "(5681, 46)"
      ]
     },
     "execution_count": 70,
     "metadata": {},
     "output_type": "execute_result"
    }
   ],
   "source": [
    "ohe_test.shape"
   ]
  },
  {
   "cell_type": "code",
   "execution_count": 71,
   "metadata": {},
   "outputs": [],
   "source": [
    "# Scale the Dataset\n",
    "sc =StandardScaler()"
   ]
  },
  {
   "cell_type": "code",
   "execution_count": 72,
   "metadata": {},
   "outputs": [
    {
     "name": "stderr",
     "output_type": "stream",
     "text": [
      "C:\\Users\\Rachit\\Anaconda3\\lib\\site-packages\\sklearn\\preprocessing\\data.py:645: DataConversionWarning: Data with input dtype uint8, float64 were all converted to float64 by StandardScaler.\n",
      "  return self.partial_fit(X, y)\n",
      "C:\\Users\\Rachit\\Anaconda3\\lib\\site-packages\\sklearn\\base.py:464: DataConversionWarning: Data with input dtype uint8, float64 were all converted to float64 by StandardScaler.\n",
      "  return self.fit(X, **fit_params).transform(X)\n"
     ]
    }
   ],
   "source": [
    "scaled_train = pd.DataFrame(sc.fit_transform(ohe_train), \n",
    "                            columns=ohe_train.columns)"
   ]
  },
  {
   "cell_type": "code",
   "execution_count": 73,
   "metadata": {},
   "outputs": [
    {
     "name": "stderr",
     "output_type": "stream",
     "text": [
      "C:\\Users\\Rachit\\Anaconda3\\lib\\site-packages\\sklearn\\preprocessing\\data.py:645: DataConversionWarning: Data with input dtype uint8, float64 were all converted to float64 by StandardScaler.\n",
      "  return self.partial_fit(X, y)\n",
      "C:\\Users\\Rachit\\Anaconda3\\lib\\site-packages\\sklearn\\base.py:464: DataConversionWarning: Data with input dtype uint8, float64 were all converted to float64 by StandardScaler.\n",
      "  return self.fit(X, **fit_params).transform(X)\n"
     ]
    }
   ],
   "source": [
    "scaled_test = pd.DataFrame(sc.fit_transform(ohe_test), \n",
    "                            columns=ohe_test.columns)"
   ]
  },
  {
   "cell_type": "code",
   "execution_count": 74,
   "metadata": {},
   "outputs": [
    {
     "data": {
      "text/plain": [
       "(8523, 47)"
      ]
     },
     "execution_count": 74,
     "metadata": {},
     "output_type": "execute_result"
    }
   ],
   "source": [
    "scaled_train.shape"
   ]
  },
  {
   "cell_type": "code",
   "execution_count": 75,
   "metadata": {},
   "outputs": [
    {
     "data": {
      "text/plain": [
       "(5681, 46)"
      ]
     },
     "execution_count": 75,
     "metadata": {},
     "output_type": "execute_result"
    }
   ],
   "source": [
    "scaled_test.shape "
   ]
  },
  {
   "cell_type": "code",
   "execution_count": 102,
   "metadata": {},
   "outputs": [],
   "source": [
    "x = scaled_train.drop(\"Item_Outlet_Sales\", axis = 1)\n",
    "y = scaled_train.Item_Outlet_Sales"
   ]
  },
  {
   "cell_type": "code",
   "execution_count": 103,
   "metadata": {},
   "outputs": [],
   "source": [
    "import keras\n",
    "from keras.models import Sequential\n",
    "from keras.layers import Dense\n"
   ]
  },
  {
   "cell_type": "code",
   "execution_count": 104,
   "metadata": {},
   "outputs": [],
   "source": [
    "Regressor = Sequential()"
   ]
  },
  {
   "cell_type": "code",
   "execution_count": 105,
   "metadata": {},
   "outputs": [],
   "source": [
    "# Adding the input layer and the first hidden layer\n",
    "Regressor.add(Dense(units = 6, kernel_initializer = 'uniform', activation = 'relu', input_dim = 46))\n"
   ]
  },
  {
   "cell_type": "code",
   "execution_count": 106,
   "metadata": {},
   "outputs": [],
   "source": [
    "# Adding the second hidden layer\n",
    "Regressor.add(Dense(units = 23, kernel_initializer = 'uniform', activation = 'relu'))\n"
   ]
  },
  {
   "cell_type": "code",
   "execution_count": 107,
   "metadata": {},
   "outputs": [],
   "source": [
    "# Adding the output layer\n",
    "Regressor.add(Dense(units = 1, kernel_initializer = 'uniform', activation = 'relu'))\n"
   ]
  },
  {
   "cell_type": "code",
   "execution_count": 108,
   "metadata": {},
   "outputs": [],
   "source": [
    "#Compiling the model\n",
    "Regressor.compile(loss='mean_absolute_error', optimizer='adam', metrics=['mean_absolute_error'])"
   ]
  },
  {
   "cell_type": "code",
   "execution_count": 109,
   "metadata": {},
   "outputs": [
    {
     "name": "stdout",
     "output_type": "stream",
     "text": [
      "Epoch 1/300\n",
      "8523/8523 [==============================] - 1s 103us/step - loss: 0.7891 - mean_absolute_error: 0.7891 0s - loss: 0.7897 - mean_absolute_error: 0.78\n",
      "Epoch 2/300\n",
      "8523/8523 [==============================] - 1s 73us/step - loss: 0.7891 - mean_absolute_error: 0.7891\n",
      "Epoch 3/300\n",
      "8523/8523 [==============================] - 1s 73us/step - loss: 0.7891 - mean_absolute_error: 0.7891\n",
      "Epoch 4/300\n",
      "8523/8523 [==============================] - 1s 70us/step - loss: 0.7891 - mean_absolute_error: 0.7891\n",
      "Epoch 5/300\n",
      "8523/8523 [==============================] - 1s 75us/step - loss: 0.7891 - mean_absolute_error: 0.7891\n",
      "Epoch 6/300\n",
      "8523/8523 [==============================] - 1s 73us/step - loss: 0.7891 - mean_absolute_error: 0.7891\n",
      "Epoch 7/300\n",
      "8523/8523 [==============================] - 1s 77us/step - loss: 0.7891 - mean_absolute_error: 0.7891\n",
      "Epoch 8/300\n",
      "8523/8523 [==============================] - 1s 68us/step - loss: 0.7891 - mean_absolute_error: 0.7891\n",
      "Epoch 9/300\n",
      "8523/8523 [==============================] - 1s 70us/step - loss: 0.7891 - mean_absolute_error: 0.7891\n",
      "Epoch 10/300\n",
      "8523/8523 [==============================] - 1s 77us/step - loss: 0.7891 - mean_absolute_error: 0.7891\n",
      "Epoch 11/300\n",
      "8523/8523 [==============================] - 1s 86us/step - loss: 0.7891 - mean_absolute_error: 0.7891\n",
      "Epoch 12/300\n",
      "8523/8523 [==============================] - 1s 73us/step - loss: 0.7891 - mean_absolute_error: 0.7891\n",
      "Epoch 13/300\n",
      "8523/8523 [==============================] - 1s 68us/step - loss: 0.7891 - mean_absolute_error: 0.7891\n",
      "Epoch 14/300\n",
      "8523/8523 [==============================] - 1s 70us/step - loss: 0.7891 - mean_absolute_error: 0.7891\n",
      "Epoch 15/300\n",
      "8523/8523 [==============================] - 1s 66us/step - loss: 0.7891 - mean_absolute_error: 0.7891\n",
      "Epoch 16/300\n",
      "8523/8523 [==============================] - 1s 68us/step - loss: 0.7891 - mean_absolute_error: 0.7891\n",
      "Epoch 17/300\n",
      "8523/8523 [==============================] - 1s 68us/step - loss: 0.7891 - mean_absolute_error: 0.7891\n",
      "Epoch 18/300\n",
      "8523/8523 [==============================] - 1s 72us/step - loss: 0.7891 - mean_absolute_error: 0.7891\n",
      "Epoch 19/300\n",
      "8523/8523 [==============================] - 1s 71us/step - loss: 0.7891 - mean_absolute_error: 0.7891\n",
      "Epoch 20/300\n",
      "8523/8523 [==============================] - 1s 70us/step - loss: 0.7891 - mean_absolute_error: 0.7891\n",
      "Epoch 21/300\n",
      "8523/8523 [==============================] - 1s 72us/step - loss: 0.7891 - mean_absolute_error: 0.7891\n",
      "Epoch 22/300\n",
      "8523/8523 [==============================] - 1s 75us/step - loss: 0.7891 - mean_absolute_error: 0.7891\n",
      "Epoch 23/300\n",
      "8523/8523 [==============================] - 1s 68us/step - loss: 0.7891 - mean_absolute_error: 0.7891\n",
      "Epoch 24/300\n",
      "8523/8523 [==============================] - 1s 71us/step - loss: 0.7891 - mean_absolute_error: 0.7891\n",
      "Epoch 25/300\n",
      "8523/8523 [==============================] - 1s 73us/step - loss: 0.7891 - mean_absolute_error: 0.7891\n",
      "Epoch 26/300\n",
      "8523/8523 [==============================] - 1s 73us/step - loss: 0.7891 - mean_absolute_error: 0.7891\n",
      "Epoch 27/300\n",
      "8523/8523 [==============================] - 1s 73us/step - loss: 0.7891 - mean_absolute_error: 0.7891\n",
      "Epoch 28/300\n",
      "8523/8523 [==============================] - 1s 72us/step - loss: 0.7891 - mean_absolute_error: 0.7891\n",
      "Epoch 29/300\n",
      "8523/8523 [==============================] - 1s 75us/step - loss: 0.7891 - mean_absolute_error: 0.7891\n",
      "Epoch 30/300\n",
      "8523/8523 [==============================] - 1s 70us/step - loss: 0.7891 - mean_absolute_error: 0.7891\n",
      "Epoch 31/300\n",
      "8523/8523 [==============================] - 1s 75us/step - loss: 0.7891 - mean_absolute_error: 0.7891\n",
      "Epoch 32/300\n",
      "8523/8523 [==============================] - 1s 77us/step - loss: 0.7891 - mean_absolute_error: 0.7891\n",
      "Epoch 33/300\n",
      "8523/8523 [==============================] - 1s 73us/step - loss: 0.7891 - mean_absolute_error: 0.7891\n",
      "Epoch 34/300\n",
      "8523/8523 [==============================] - 1s 73us/step - loss: 0.7891 - mean_absolute_error: 0.7891\n",
      "Epoch 35/300\n",
      "8523/8523 [==============================] - 1s 77us/step - loss: 0.7891 - mean_absolute_error: 0.7891\n",
      "Epoch 36/300\n",
      "8523/8523 [==============================] - 1s 90us/step - loss: 0.7891 - mean_absolute_error: 0.7891\n",
      "Epoch 37/300\n",
      "8523/8523 [==============================] - 1s 97us/step - loss: 0.7891 - mean_absolute_error: 0.7891\n",
      "Epoch 38/300\n",
      "8523/8523 [==============================] - 1s 101us/step - loss: 0.7891 - mean_absolute_error: 0.7891\n",
      "Epoch 39/300\n",
      "8523/8523 [==============================] - 1s 105us/step - loss: 0.7891 - mean_absolute_error: 0.7891\n",
      "Epoch 40/300\n",
      "8523/8523 [==============================] - 1s 101us/step - loss: 0.7891 - mean_absolute_error: 0.7891\n",
      "Epoch 41/300\n",
      "8523/8523 [==============================] - 1s 97us/step - loss: 0.7891 - mean_absolute_error: 0.7891\n",
      "Epoch 42/300\n",
      "8523/8523 [==============================] - 1s 95us/step - loss: 0.7891 - mean_absolute_error: 0.7891\n",
      "Epoch 43/300\n",
      "8523/8523 [==============================] - 1s 95us/step - loss: 0.7891 - mean_absolute_error: 0.7891\n",
      "Epoch 44/300\n",
      "8523/8523 [==============================] - 1s 97us/step - loss: 0.7891 - mean_absolute_error: 0.7891\n",
      "Epoch 45/300\n",
      "8523/8523 [==============================] - 1s 95us/step - loss: 0.7891 - mean_absolute_error: 0.7891\n",
      "Epoch 46/300\n",
      "8523/8523 [==============================] - 1s 95us/step - loss: 0.7891 - mean_absolute_error: 0.7891\n",
      "Epoch 47/300\n",
      "8523/8523 [==============================] - 1s 95us/step - loss: 0.7891 - mean_absolute_error: 0.7891\n",
      "Epoch 48/300\n",
      "8523/8523 [==============================] - 1s 94us/step - loss: 0.7891 - mean_absolute_error: 0.7891\n",
      "Epoch 49/300\n",
      "8523/8523 [==============================] - 1s 97us/step - loss: 0.7891 - mean_absolute_error: 0.7891\n",
      "Epoch 50/300\n",
      "8523/8523 [==============================] - 1s 97us/step - loss: 0.7891 - mean_absolute_error: 0.7891\n",
      "Epoch 51/300\n",
      "8523/8523 [==============================] - 1s 97us/step - loss: 0.7891 - mean_absolute_error: 0.7891\n",
      "Epoch 52/300\n",
      "8523/8523 [==============================] - 1s 95us/step - loss: 0.7891 - mean_absolute_error: 0.7891\n",
      "Epoch 53/300\n",
      "8523/8523 [==============================] - 1s 95us/step - loss: 0.7891 - mean_absolute_error: 0.7891\n",
      "Epoch 54/300\n",
      "8523/8523 [==============================] - 1s 92us/step - loss: 0.7891 - mean_absolute_error: 0.7891\n",
      "Epoch 55/300\n",
      "8523/8523 [==============================] - 1s 92us/step - loss: 0.7891 - mean_absolute_error: 0.7891\n",
      "Epoch 56/300\n",
      "8523/8523 [==============================] - 1s 94us/step - loss: 0.7891 - mean_absolute_error: 0.7891\n",
      "Epoch 57/300\n",
      "8523/8523 [==============================] - 1s 93us/step - loss: 0.7891 - mean_absolute_error: 0.7891\n",
      "Epoch 58/300\n",
      "8523/8523 [==============================] - 1s 93us/step - loss: 0.7891 - mean_absolute_error: 0.7891\n",
      "Epoch 59/300\n",
      "8523/8523 [==============================] - 1s 92us/step - loss: 0.7891 - mean_absolute_error: 0.7891\n",
      "Epoch 60/300\n",
      "8523/8523 [==============================] - 1s 90us/step - loss: 0.7891 - mean_absolute_error: 0.7891\n",
      "Epoch 61/300\n",
      "8523/8523 [==============================] - 1s 94us/step - loss: 0.7891 - mean_absolute_error: 0.7891\n",
      "Epoch 62/300\n",
      "8523/8523 [==============================] - 1s 93us/step - loss: 0.7891 - mean_absolute_error: 0.7891\n",
      "Epoch 63/300\n",
      "8523/8523 [==============================] - 1s 94us/step - loss: 0.7891 - mean_absolute_error: 0.7891\n",
      "Epoch 64/300\n",
      "8523/8523 [==============================] - 1s 92us/step - loss: 0.7891 - mean_absolute_error: 0.7891\n",
      "Epoch 65/300\n",
      "8523/8523 [==============================] - 1s 92us/step - loss: 0.7891 - mean_absolute_error: 0.7891\n",
      "Epoch 66/300\n",
      "8523/8523 [==============================] - 1s 95us/step - loss: 0.7891 - mean_absolute_error: 0.7891\n",
      "Epoch 67/300\n",
      "8523/8523 [==============================] - 1s 92us/step - loss: 0.7891 - mean_absolute_error: 0.7891\n",
      "Epoch 68/300\n",
      "8523/8523 [==============================] - 1s 94us/step - loss: 0.7891 - mean_absolute_error: 0.7891\n",
      "Epoch 69/300\n",
      "8523/8523 [==============================] - 1s 92us/step - loss: 0.7891 - mean_absolute_error: 0.7891\n",
      "Epoch 70/300\n",
      "8523/8523 [==============================] - 1s 94us/step - loss: 0.7891 - mean_absolute_error: 0.7891\n",
      "Epoch 71/300\n"
     ]
    },
    {
     "name": "stdout",
     "output_type": "stream",
     "text": [
      "8523/8523 [==============================] - 1s 93us/step - loss: 0.7891 - mean_absolute_error: 0.7891\n",
      "Epoch 72/300\n",
      "8523/8523 [==============================] - 1s 92us/step - loss: 0.7891 - mean_absolute_error: 0.7891\n",
      "Epoch 73/300\n",
      "8523/8523 [==============================] - 1s 90us/step - loss: 0.7891 - mean_absolute_error: 0.7891\n",
      "Epoch 74/300\n",
      "8523/8523 [==============================] - 1s 90us/step - loss: 0.7891 - mean_absolute_error: 0.7891\n",
      "Epoch 75/300\n",
      "8523/8523 [==============================] - 1s 90us/step - loss: 0.7891 - mean_absolute_error: 0.7891\n",
      "Epoch 76/300\n",
      "8523/8523 [==============================] - 1s 92us/step - loss: 0.7891 - mean_absolute_error: 0.7891\n",
      "Epoch 77/300\n",
      "8523/8523 [==============================] - 1s 90us/step - loss: 0.7891 - mean_absolute_error: 0.7891\n",
      "Epoch 78/300\n",
      "8523/8523 [==============================] - 1s 90us/step - loss: 0.7891 - mean_absolute_error: 0.7891\n",
      "Epoch 79/300\n",
      "8523/8523 [==============================] - 1s 92us/step - loss: 0.7891 - mean_absolute_error: 0.7891\n",
      "Epoch 80/300\n",
      "8523/8523 [==============================] - 1s 90us/step - loss: 0.7891 - mean_absolute_error: 0.7891\n",
      "Epoch 81/300\n",
      "8523/8523 [==============================] - 1s 92us/step - loss: 0.7891 - mean_absolute_error: 0.7891\n",
      "Epoch 82/300\n",
      "8523/8523 [==============================] - 1s 90us/step - loss: 0.7891 - mean_absolute_error: 0.7891\n",
      "Epoch 83/300\n",
      "8523/8523 [==============================] - 1s 90us/step - loss: 0.7891 - mean_absolute_error: 0.7891\n",
      "Epoch 84/300\n",
      "8523/8523 [==============================] - 1s 92us/step - loss: 0.7891 - mean_absolute_error: 0.7891\n",
      "Epoch 85/300\n",
      "8523/8523 [==============================] - 1s 90us/step - loss: 0.7891 - mean_absolute_error: 0.7891\n",
      "Epoch 86/300\n",
      "8523/8523 [==============================] - 1s 92us/step - loss: 0.7891 - mean_absolute_error: 0.7891\n",
      "Epoch 87/300\n",
      "8523/8523 [==============================] - 1s 90us/step - loss: 0.7891 - mean_absolute_error: 0.7891\n",
      "Epoch 88/300\n",
      "8523/8523 [==============================] - 1s 92us/step - loss: 0.7891 - mean_absolute_error: 0.7891\n",
      "Epoch 89/300\n",
      "8523/8523 [==============================] - 1s 90us/step - loss: 0.7891 - mean_absolute_error: 0.7891\n",
      "Epoch 90/300\n",
      "8523/8523 [==============================] - 1s 93us/step - loss: 0.7891 - mean_absolute_error: 0.7891\n",
      "Epoch 91/300\n",
      "8523/8523 [==============================] - 1s 92us/step - loss: 0.7891 - mean_absolute_error: 0.7891\n",
      "Epoch 92/300\n",
      "8523/8523 [==============================] - 1s 92us/step - loss: 0.7891 - mean_absolute_error: 0.7891\n",
      "Epoch 93/300\n",
      "8523/8523 [==============================] - 1s 92us/step - loss: 0.7891 - mean_absolute_error: 0.7891\n",
      "Epoch 94/300\n",
      "8523/8523 [==============================] - 1s 90us/step - loss: 0.7891 - mean_absolute_error: 0.7891\n",
      "Epoch 95/300\n",
      "8523/8523 [==============================] - 1s 92us/step - loss: 0.7891 - mean_absolute_error: 0.7891\n",
      "Epoch 96/300\n",
      "8523/8523 [==============================] - 1s 94us/step - loss: 0.7891 - mean_absolute_error: 0.7891\n",
      "Epoch 97/300\n",
      "8523/8523 [==============================] - 1s 94us/step - loss: 0.7891 - mean_absolute_error: 0.7891\n",
      "Epoch 98/300\n",
      "8523/8523 [==============================] - 1s 92us/step - loss: 0.7891 - mean_absolute_error: 0.7891\n",
      "Epoch 99/300\n",
      "8523/8523 [==============================] - 1s 92us/step - loss: 0.7891 - mean_absolute_error: 0.7891\n",
      "Epoch 100/300\n",
      "8523/8523 [==============================] - 1s 94us/step - loss: 0.7891 - mean_absolute_error: 0.7891\n",
      "Epoch 101/300\n",
      "8523/8523 [==============================] - 1s 90us/step - loss: 0.7891 - mean_absolute_error: 0.7891\n",
      "Epoch 102/300\n",
      "8523/8523 [==============================] - 1s 95us/step - loss: 0.7891 - mean_absolute_error: 0.7891\n",
      "Epoch 103/300\n",
      "8523/8523 [==============================] - 1s 92us/step - loss: 0.7891 - mean_absolute_error: 0.7891\n",
      "Epoch 104/300\n",
      "8523/8523 [==============================] - 1s 90us/step - loss: 0.7891 - mean_absolute_error: 0.7891\n",
      "Epoch 105/300\n",
      "8523/8523 [==============================] - 1s 97us/step - loss: 0.7891 - mean_absolute_error: 0.7891\n",
      "Epoch 106/300\n",
      "8523/8523 [==============================] - 1s 90us/step - loss: 0.7891 - mean_absolute_error: 0.7891\n",
      "Epoch 107/300\n",
      "8523/8523 [==============================] - 1s 94us/step - loss: 0.7891 - mean_absolute_error: 0.7891\n",
      "Epoch 108/300\n",
      "8523/8523 [==============================] - 1s 94us/step - loss: 0.7891 - mean_absolute_error: 0.7891\n",
      "Epoch 109/300\n",
      "8523/8523 [==============================] - 1s 95us/step - loss: 0.7891 - mean_absolute_error: 0.7891\n",
      "Epoch 110/300\n",
      "8523/8523 [==============================] - 1s 94us/step - loss: 0.7891 - mean_absolute_error: 0.7891\n",
      "Epoch 111/300\n",
      "8523/8523 [==============================] - 1s 92us/step - loss: 0.7891 - mean_absolute_error: 0.7891\n",
      "Epoch 112/300\n",
      "8523/8523 [==============================] - 1s 92us/step - loss: 0.7891 - mean_absolute_error: 0.7891\n",
      "Epoch 113/300\n",
      "8523/8523 [==============================] - 1s 92us/step - loss: 0.7891 - mean_absolute_error: 0.7891\n",
      "Epoch 114/300\n",
      "8523/8523 [==============================] - 1s 92us/step - loss: 0.7891 - mean_absolute_error: 0.7891\n",
      "Epoch 115/300\n",
      "8523/8523 [==============================] - 1s 93us/step - loss: 0.7891 - mean_absolute_error: 0.7891\n",
      "Epoch 116/300\n",
      "8523/8523 [==============================] - 1s 92us/step - loss: 0.7891 - mean_absolute_error: 0.7891\n",
      "Epoch 117/300\n",
      "8523/8523 [==============================] - 1s 92us/step - loss: 0.7891 - mean_absolute_error: 0.7891\n",
      "Epoch 118/300\n",
      "8523/8523 [==============================] - 1s 95us/step - loss: 0.7891 - mean_absolute_error: 0.7891\n",
      "Epoch 119/300\n",
      "8523/8523 [==============================] - 1s 92us/step - loss: 0.7891 - mean_absolute_error: 0.7891\n",
      "Epoch 120/300\n",
      "8523/8523 [==============================] - 1s 94us/step - loss: 0.7891 - mean_absolute_error: 0.7891\n",
      "Epoch 121/300\n",
      "8523/8523 [==============================] - 1s 94us/step - loss: 0.7891 - mean_absolute_error: 0.7891\n",
      "Epoch 122/300\n",
      "8523/8523 [==============================] - 1s 95us/step - loss: 0.7891 - mean_absolute_error: 0.7891\n",
      "Epoch 123/300\n",
      "8523/8523 [==============================] - 1s 94us/step - loss: 0.7891 - mean_absolute_error: 0.7891\n",
      "Epoch 124/300\n",
      "8523/8523 [==============================] - 1s 93us/step - loss: 0.7891 - mean_absolute_error: 0.7891\n",
      "Epoch 125/300\n",
      "8523/8523 [==============================] - 1s 94us/step - loss: 0.7891 - mean_absolute_error: 0.7891\n",
      "Epoch 126/300\n",
      "8523/8523 [==============================] - 1s 94us/step - loss: 0.7891 - mean_absolute_error: 0.7891\n",
      "Epoch 127/300\n",
      "8523/8523 [==============================] - 1s 95us/step - loss: 0.7891 - mean_absolute_error: 0.7891\n",
      "Epoch 128/300\n",
      "8523/8523 [==============================] - 1s 95us/step - loss: 0.7891 - mean_absolute_error: 0.7891\n",
      "Epoch 129/300\n",
      "8523/8523 [==============================] - 1s 93us/step - loss: 0.7891 - mean_absolute_error: 0.7891\n",
      "Epoch 130/300\n",
      "8523/8523 [==============================] - 1s 94us/step - loss: 0.7891 - mean_absolute_error: 0.7891\n",
      "Epoch 131/300\n",
      "8523/8523 [==============================] - 1s 93us/step - loss: 0.7891 - mean_absolute_error: 0.7891\n",
      "Epoch 132/300\n",
      "8523/8523 [==============================] - 1s 95us/step - loss: 0.7891 - mean_absolute_error: 0.7891\n",
      "Epoch 133/300\n",
      "8523/8523 [==============================] - 1s 95us/step - loss: 0.7891 - mean_absolute_error: 0.7891\n",
      "Epoch 134/300\n",
      "8523/8523 [==============================] - 1s 93us/step - loss: 0.7891 - mean_absolute_error: 0.7891\n",
      "Epoch 135/300\n",
      "8523/8523 [==============================] - 1s 94us/step - loss: 0.7891 - mean_absolute_error: 0.7891\n",
      "Epoch 136/300\n",
      "8523/8523 [==============================] - 1s 95us/step - loss: 0.7891 - mean_absolute_error: 0.7891\n",
      "Epoch 137/300\n",
      "8523/8523 [==============================] - 1s 95us/step - loss: 0.7891 - mean_absolute_error: 0.7891\n",
      "Epoch 138/300\n",
      "8523/8523 [==============================] - 1s 95us/step - loss: 0.7891 - mean_absolute_error: 0.7891\n",
      "Epoch 139/300\n",
      "8523/8523 [==============================] - 1s 95us/step - loss: 0.7891 - mean_absolute_error: 0.7891\n",
      "Epoch 140/300\n",
      "8523/8523 [==============================] - 1s 95us/step - loss: 0.7891 - mean_absolute_error: 0.7891\n",
      "Epoch 141/300\n"
     ]
    },
    {
     "name": "stdout",
     "output_type": "stream",
     "text": [
      "8523/8523 [==============================] - 1s 95us/step - loss: 0.7891 - mean_absolute_error: 0.7891\n",
      "Epoch 142/300\n",
      "8523/8523 [==============================] - 1s 97us/step - loss: 0.7891 - mean_absolute_error: 0.7891\n",
      "Epoch 143/300\n",
      "8523/8523 [==============================] - 1s 95us/step - loss: 0.7891 - mean_absolute_error: 0.7891\n",
      "Epoch 144/300\n",
      "8523/8523 [==============================] - 1s 95us/step - loss: 0.7891 - mean_absolute_error: 0.7891\n",
      "Epoch 145/300\n",
      "8523/8523 [==============================] - 1s 95us/step - loss: 0.7891 - mean_absolute_error: 0.7891\n",
      "Epoch 146/300\n",
      "8523/8523 [==============================] - 1s 95us/step - loss: 0.7891 - mean_absolute_error: 0.7891\n",
      "Epoch 147/300\n",
      "8523/8523 [==============================] - 1s 94us/step - loss: 0.7891 - mean_absolute_error: 0.7891\n",
      "Epoch 148/300\n",
      "8523/8523 [==============================] - 1s 97us/step - loss: 0.7891 - mean_absolute_error: 0.7891\n",
      "Epoch 149/300\n",
      "8523/8523 [==============================] - 1s 105us/step - loss: 0.7891 - mean_absolute_error: 0.7891\n",
      "Epoch 150/300\n",
      "8523/8523 [==============================] - 1s 108us/step - loss: 0.7891 - mean_absolute_error: 0.7891\n",
      "Epoch 151/300\n",
      "8523/8523 [==============================] - 1s 99us/step - loss: 0.7891 - mean_absolute_error: 0.7891\n",
      "Epoch 152/300\n",
      "8523/8523 [==============================] - 1s 94us/step - loss: 0.7891 - mean_absolute_error: 0.7891\n",
      "Epoch 153/300\n",
      "8523/8523 [==============================] - 1s 94us/step - loss: 0.7891 - mean_absolute_error: 0.7891\n",
      "Epoch 154/300\n",
      "8523/8523 [==============================] - 1s 93us/step - loss: 0.7891 - mean_absolute_error: 0.7891\n",
      "Epoch 155/300\n",
      "8523/8523 [==============================] - 1s 112us/step - loss: 0.7891 - mean_absolute_error: 0.7891\n",
      "Epoch 156/300\n",
      "8523/8523 [==============================] - 1s 99us/step - loss: 0.7891 - mean_absolute_error: 0.7891\n",
      "Epoch 157/300\n",
      "8523/8523 [==============================] - 1s 97us/step - loss: 0.7891 - mean_absolute_error: 0.7891\n",
      "Epoch 158/300\n",
      "8523/8523 [==============================] - 1s 97us/step - loss: 0.7891 - mean_absolute_error: 0.7891\n",
      "Epoch 159/300\n",
      "8523/8523 [==============================] - 1s 94us/step - loss: 0.7891 - mean_absolute_error: 0.7891\n",
      "Epoch 160/300\n",
      "8523/8523 [==============================] - 1s 95us/step - loss: 0.7891 - mean_absolute_error: 0.7891\n",
      "Epoch 161/300\n",
      "8523/8523 [==============================] - 1s 99us/step - loss: 0.7891 - mean_absolute_error: 0.7891\n",
      "Epoch 162/300\n",
      "8523/8523 [==============================] - 1s 97us/step - loss: 0.7891 - mean_absolute_error: 0.7891\n",
      "Epoch 163/300\n",
      "8523/8523 [==============================] - 1s 95us/step - loss: 0.7891 - mean_absolute_error: 0.7891\n",
      "Epoch 164/300\n",
      "8523/8523 [==============================] - 1s 99us/step - loss: 0.7891 - mean_absolute_error: 0.7891\n",
      "Epoch 165/300\n",
      "8523/8523 [==============================] - 1s 97us/step - loss: 0.7891 - mean_absolute_error: 0.7891\n",
      "Epoch 166/300\n",
      "8523/8523 [==============================] - 1s 95us/step - loss: 0.7891 - mean_absolute_error: 0.7891\n",
      "Epoch 167/300\n",
      "8523/8523 [==============================] - 1s 99us/step - loss: 0.7891 - mean_absolute_error: 0.7891\n",
      "Epoch 168/300\n",
      "8523/8523 [==============================] - 1s 97us/step - loss: 0.7891 - mean_absolute_error: 0.7891\n",
      "Epoch 169/300\n",
      "8523/8523 [==============================] - 1s 103us/step - loss: 0.7891 - mean_absolute_error: 0.7891\n",
      "Epoch 170/300\n",
      "8523/8523 [==============================] - 1s 114us/step - loss: 0.7891 - mean_absolute_error: 0.7891\n",
      "Epoch 171/300\n",
      "8523/8523 [==============================] - 1s 112us/step - loss: 0.7891 - mean_absolute_error: 0.7891\n",
      "Epoch 172/300\n",
      "8523/8523 [==============================] - 1s 105us/step - loss: 0.7891 - mean_absolute_error: 0.7891\n",
      "Epoch 173/300\n",
      "8523/8523 [==============================] - 1s 101us/step - loss: 0.7891 - mean_absolute_error: 0.7891\n",
      "Epoch 174/300\n",
      "8523/8523 [==============================] - 1s 95us/step - loss: 0.7891 - mean_absolute_error: 0.7891\n",
      "Epoch 175/300\n",
      "8523/8523 [==============================] - 1s 97us/step - loss: 0.7891 - mean_absolute_error: 0.7891\n",
      "Epoch 176/300\n",
      "8523/8523 [==============================] - 1s 97us/step - loss: 0.7891 - mean_absolute_error: 0.7891\n",
      "Epoch 177/300\n",
      "8523/8523 [==============================] - 1s 101us/step - loss: 0.7891 - mean_absolute_error: 0.7891\n",
      "Epoch 178/300\n",
      "8523/8523 [==============================] - 1s 99us/step - loss: 0.7891 - mean_absolute_error: 0.7891\n",
      "Epoch 179/300\n",
      "8523/8523 [==============================] - 1s 97us/step - loss: 0.7891 - mean_absolute_error: 0.7891\n",
      "Epoch 180/300\n",
      "8523/8523 [==============================] - 1s 99us/step - loss: 0.7891 - mean_absolute_error: 0.7891\n",
      "Epoch 181/300\n",
      "8523/8523 [==============================] - 1s 97us/step - loss: 0.7891 - mean_absolute_error: 0.7891\n",
      "Epoch 182/300\n",
      "8523/8523 [==============================] - 1s 99us/step - loss: 0.7891 - mean_absolute_error: 0.7891\n",
      "Epoch 183/300\n",
      "8523/8523 [==============================] - 1s 105us/step - loss: 0.7891 - mean_absolute_error: 0.7891\n",
      "Epoch 184/300\n",
      "8523/8523 [==============================] - 1s 121us/step - loss: 0.7891 - mean_absolute_error: 0.7891\n",
      "Epoch 185/300\n",
      "8523/8523 [==============================] - 1s 110us/step - loss: 0.7891 - mean_absolute_error: 0.7891\n",
      "Epoch 186/300\n",
      "8523/8523 [==============================] - 1s 108us/step - loss: 0.7891 - mean_absolute_error: 0.7891\n",
      "Epoch 187/300\n",
      "8523/8523 [==============================] - 1s 103us/step - loss: 0.7891 - mean_absolute_error: 0.7891\n",
      "Epoch 188/300\n",
      "8523/8523 [==============================] - 1s 103us/step - loss: 0.7891 - mean_absolute_error: 0.7891\n",
      "Epoch 189/300\n",
      "8523/8523 [==============================] - 1s 101us/step - loss: 0.7891 - mean_absolute_error: 0.7891\n",
      "Epoch 190/300\n",
      "8523/8523 [==============================] - 1s 101us/step - loss: 0.7891 - mean_absolute_error: 0.7891\n",
      "Epoch 191/300\n",
      "8523/8523 [==============================] - 1s 101us/step - loss: 0.7891 - mean_absolute_error: 0.7891\n",
      "Epoch 192/300\n",
      "8523/8523 [==============================] - 1s 110us/step - loss: 0.7891 - mean_absolute_error: 0.7891\n",
      "Epoch 193/300\n",
      "8523/8523 [==============================] - 1s 128us/step - loss: 0.7891 - mean_absolute_error: 0.7891\n",
      "Epoch 194/300\n",
      "8523/8523 [==============================] - 1s 126us/step - loss: 0.7891 - mean_absolute_error: 0.7891\n",
      "Epoch 195/300\n",
      "8523/8523 [==============================] - 1s 130us/step - loss: 0.7891 - mean_absolute_error: 0.7891\n",
      "Epoch 196/300\n",
      "8523/8523 [==============================] - 1s 127us/step - loss: 0.7891 - mean_absolute_error: 0.7891\n",
      "Epoch 197/300\n",
      "8523/8523 [==============================] - 1s 130us/step - loss: 0.7891 - mean_absolute_error: 0.7891\n",
      "Epoch 198/300\n",
      "8523/8523 [==============================] - 1s 125us/step - loss: 0.7891 - mean_absolute_error: 0.7891\n",
      "Epoch 199/300\n",
      "8523/8523 [==============================] - 1s 125us/step - loss: 0.7891 - mean_absolute_error: 0.7891\n",
      "Epoch 200/300\n",
      "8523/8523 [==============================] - 1s 128us/step - loss: 0.7891 - mean_absolute_error: 0.7891\n",
      "Epoch 201/300\n",
      "8523/8523 [==============================] - 1s 125us/step - loss: 0.7891 - mean_absolute_error: 0.7891\n",
      "Epoch 202/300\n",
      "8523/8523 [==============================] - 1s 119us/step - loss: 0.7891 - mean_absolute_error: 0.7891\n",
      "Epoch 203/300\n",
      "8523/8523 [==============================] - 1s 119us/step - loss: 0.7891 - mean_absolute_error: 0.7891\n",
      "Epoch 204/300\n",
      "8523/8523 [==============================] - 1s 119us/step - loss: 0.7891 - mean_absolute_error: 0.7891\n",
      "Epoch 205/300\n",
      "8523/8523 [==============================] - 1s 116us/step - loss: 0.7891 - mean_absolute_error: 0.7891\n",
      "Epoch 206/300\n",
      "8523/8523 [==============================] - 1s 114us/step - loss: 0.7891 - mean_absolute_error: 0.7891\n",
      "Epoch 207/300\n",
      "8523/8523 [==============================] - 1s 116us/step - loss: 0.7891 - mean_absolute_error: 0.7891\n",
      "Epoch 208/300\n",
      "8523/8523 [==============================] - 1s 116us/step - loss: 0.7891 - mean_absolute_error: 0.7891\n",
      "Epoch 209/300\n",
      "8523/8523 [==============================] - 1s 114us/step - loss: 0.7891 - mean_absolute_error: 0.7891\n",
      "Epoch 210/300\n"
     ]
    },
    {
     "name": "stdout",
     "output_type": "stream",
     "text": [
      "8523/8523 [==============================] - 1s 110us/step - loss: 0.7891 - mean_absolute_error: 0.7891\n",
      "Epoch 211/300\n",
      "8523/8523 [==============================] - 1s 103us/step - loss: 0.7891 - mean_absolute_error: 0.7891\n",
      "Epoch 212/300\n",
      "8523/8523 [==============================] - 1s 108us/step - loss: 0.7891 - mean_absolute_error: 0.7891\n",
      "Epoch 213/300\n",
      "8523/8523 [==============================] - 1s 103us/step - loss: 0.7891 - mean_absolute_error: 0.7891\n",
      "Epoch 214/300\n",
      "8523/8523 [==============================] - 1s 103us/step - loss: 0.7891 - mean_absolute_error: 0.7891\n",
      "Epoch 215/300\n",
      "8523/8523 [==============================] - 1s 101us/step - loss: 0.7891 - mean_absolute_error: 0.7891\n",
      "Epoch 216/300\n",
      "8523/8523 [==============================] - 1s 103us/step - loss: 0.7891 - mean_absolute_error: 0.7891\n",
      "Epoch 217/300\n",
      "8523/8523 [==============================] - 1s 105us/step - loss: 0.7891 - mean_absolute_error: 0.7891\n",
      "Epoch 218/300\n",
      "8523/8523 [==============================] - 1s 103us/step - loss: 0.7891 - mean_absolute_error: 0.7891\n",
      "Epoch 219/300\n",
      "8523/8523 [==============================] - 1s 103us/step - loss: 0.7891 - mean_absolute_error: 0.7891\n",
      "Epoch 220/300\n",
      "8523/8523 [==============================] - 1s 101us/step - loss: 0.7891 - mean_absolute_error: 0.7891\n",
      "Epoch 221/300\n",
      "8523/8523 [==============================] - 1s 103us/step - loss: 0.7891 - mean_absolute_error: 0.7891\n",
      "Epoch 222/300\n",
      "8523/8523 [==============================] - 1s 101us/step - loss: 0.7891 - mean_absolute_error: 0.7891\n",
      "Epoch 223/300\n",
      "8523/8523 [==============================] - 1s 101us/step - loss: 0.7891 - mean_absolute_error: 0.7891\n",
      "Epoch 224/300\n",
      "8523/8523 [==============================] - 1s 101us/step - loss: 0.7891 - mean_absolute_error: 0.7891\n",
      "Epoch 225/300\n",
      "8523/8523 [==============================] - 1s 101us/step - loss: 0.7891 - mean_absolute_error: 0.7891\n",
      "Epoch 226/300\n",
      "8523/8523 [==============================] - 1s 99us/step - loss: 0.7891 - mean_absolute_error: 0.7891\n",
      "Epoch 227/300\n",
      "8523/8523 [==============================] - 1s 99us/step - loss: 0.7891 - mean_absolute_error: 0.7891\n",
      "Epoch 228/300\n",
      "8523/8523 [==============================] - 1s 99us/step - loss: 0.7891 - mean_absolute_error: 0.7891\n",
      "Epoch 229/300\n",
      "8523/8523 [==============================] - 1s 99us/step - loss: 0.7891 - mean_absolute_error: 0.7891\n",
      "Epoch 230/300\n",
      "8523/8523 [==============================] - 1s 103us/step - loss: 0.7891 - mean_absolute_error: 0.7891\n",
      "Epoch 231/300\n",
      "8523/8523 [==============================] - 1s 99us/step - loss: 0.7891 - mean_absolute_error: 0.7891\n",
      "Epoch 232/300\n",
      "8523/8523 [==============================] - 1s 99us/step - loss: 0.7891 - mean_absolute_error: 0.7891\n",
      "Epoch 233/300\n",
      "8523/8523 [==============================] - 1s 101us/step - loss: 0.7891 - mean_absolute_error: 0.7891\n",
      "Epoch 234/300\n",
      "8523/8523 [==============================] - 1s 101us/step - loss: 0.7891 - mean_absolute_error: 0.7891\n",
      "Epoch 235/300\n",
      "8523/8523 [==============================] - 1s 101us/step - loss: 0.7891 - mean_absolute_error: 0.7891\n",
      "Epoch 236/300\n",
      "8523/8523 [==============================] - 1s 101us/step - loss: 0.7891 - mean_absolute_error: 0.7891\n",
      "Epoch 237/300\n",
      "8523/8523 [==============================] - 1s 103us/step - loss: 0.7891 - mean_absolute_error: 0.7891\n",
      "Epoch 238/300\n",
      "8523/8523 [==============================] - 1s 101us/step - loss: 0.7891 - mean_absolute_error: 0.7891\n",
      "Epoch 239/300\n",
      "8523/8523 [==============================] - 1s 106us/step - loss: 0.7891 - mean_absolute_error: 0.7891\n",
      "Epoch 240/300\n",
      "8523/8523 [==============================] - 1s 99us/step - loss: 0.7891 - mean_absolute_error: 0.7891\n",
      "Epoch 241/300\n",
      "8523/8523 [==============================] - 1s 103us/step - loss: 0.7891 - mean_absolute_error: 0.7891\n",
      "Epoch 242/300\n",
      "8523/8523 [==============================] - 1s 103us/step - loss: 0.7891 - mean_absolute_error: 0.7891\n",
      "Epoch 243/300\n",
      "8523/8523 [==============================] - 1s 101us/step - loss: 0.7891 - mean_absolute_error: 0.7891\n",
      "Epoch 244/300\n",
      "8523/8523 [==============================] - 1s 103us/step - loss: 0.7891 - mean_absolute_error: 0.7891\n",
      "Epoch 245/300\n",
      "8523/8523 [==============================] - 1s 103us/step - loss: 0.7891 - mean_absolute_error: 0.7891\n",
      "Epoch 246/300\n",
      "8523/8523 [==============================] - 1s 101us/step - loss: 0.7891 - mean_absolute_error: 0.7891\n",
      "Epoch 247/300\n",
      "8523/8523 [==============================] - 1s 103us/step - loss: 0.7891 - mean_absolute_error: 0.7891\n",
      "Epoch 248/300\n",
      "8523/8523 [==============================] - 1s 101us/step - loss: 0.7891 - mean_absolute_error: 0.7891\n",
      "Epoch 249/300\n",
      "8523/8523 [==============================] - 1s 101us/step - loss: 0.7891 - mean_absolute_error: 0.7891\n",
      "Epoch 250/300\n",
      "8523/8523 [==============================] - 1s 101us/step - loss: 0.7891 - mean_absolute_error: 0.7891\n",
      "Epoch 251/300\n",
      "8523/8523 [==============================] - 1s 103us/step - loss: 0.7891 - mean_absolute_error: 0.7891\n",
      "Epoch 252/300\n",
      "8523/8523 [==============================] - 1s 99us/step - loss: 0.7891 - mean_absolute_error: 0.7891\n",
      "Epoch 253/300\n",
      "8523/8523 [==============================] - 1s 99us/step - loss: 0.7891 - mean_absolute_error: 0.7891\n",
      "Epoch 254/300\n",
      "8523/8523 [==============================] - 1s 99us/step - loss: 0.7891 - mean_absolute_error: 0.7891\n",
      "Epoch 255/300\n",
      "8523/8523 [==============================] - 1s 103us/step - loss: 0.7891 - mean_absolute_error: 0.7891\n",
      "Epoch 256/300\n",
      "8523/8523 [==============================] - 1s 101us/step - loss: 0.7891 - mean_absolute_error: 0.7891\n",
      "Epoch 257/300\n",
      "8523/8523 [==============================] - 1s 99us/step - loss: 0.7891 - mean_absolute_error: 0.7891\n",
      "Epoch 258/300\n",
      "8523/8523 [==============================] - 1s 103us/step - loss: 0.7891 - mean_absolute_error: 0.7891\n",
      "Epoch 259/300\n",
      "8523/8523 [==============================] - 1s 99us/step - loss: 0.7891 - mean_absolute_error: 0.7891\n",
      "Epoch 260/300\n",
      "8523/8523 [==============================] - 1s 99us/step - loss: 0.7891 - mean_absolute_error: 0.7891\n",
      "Epoch 261/300\n",
      "8523/8523 [==============================] - 1s 101us/step - loss: 0.7891 - mean_absolute_error: 0.7891\n",
      "Epoch 262/300\n",
      "8523/8523 [==============================] - 1s 105us/step - loss: 0.7891 - mean_absolute_error: 0.7891\n",
      "Epoch 263/300\n",
      "8523/8523 [==============================] - 1s 101us/step - loss: 0.7891 - mean_absolute_error: 0.7891\n",
      "Epoch 264/300\n",
      "8523/8523 [==============================] - 1s 101us/step - loss: 0.7891 - mean_absolute_error: 0.7891\n",
      "Epoch 265/300\n",
      "8523/8523 [==============================] - 1s 101us/step - loss: 0.7891 - mean_absolute_error: 0.7891\n",
      "Epoch 266/300\n",
      "8523/8523 [==============================] - 1s 103us/step - loss: 0.7891 - mean_absolute_error: 0.7891\n",
      "Epoch 267/300\n",
      "8523/8523 [==============================] - 1s 101us/step - loss: 0.7891 - mean_absolute_error: 0.7891\n",
      "Epoch 268/300\n",
      "8523/8523 [==============================] - 1s 101us/step - loss: 0.7891 - mean_absolute_error: 0.7891\n",
      "Epoch 269/300\n",
      "8523/8523 [==============================] - 1s 106us/step - loss: 0.7891 - mean_absolute_error: 0.7891\n",
      "Epoch 270/300\n",
      "8523/8523 [==============================] - 1s 101us/step - loss: 0.7891 - mean_absolute_error: 0.7891\n",
      "Epoch 271/300\n",
      "8523/8523 [==============================] - 1s 101us/step - loss: 0.7891 - mean_absolute_error: 0.7891\n",
      "Epoch 272/300\n",
      "8523/8523 [==============================] - 1s 101us/step - loss: 0.7891 - mean_absolute_error: 0.7891\n",
      "Epoch 273/300\n",
      "8523/8523 [==============================] - 1s 103us/step - loss: 0.7891 - mean_absolute_error: 0.7891\n",
      "Epoch 274/300\n",
      "8523/8523 [==============================] - 1s 105us/step - loss: 0.7891 - mean_absolute_error: 0.7891\n",
      "Epoch 275/300\n",
      "8523/8523 [==============================] - 1s 101us/step - loss: 0.7891 - mean_absolute_error: 0.7891\n",
      "Epoch 276/300\n",
      "8523/8523 [==============================] - 1s 101us/step - loss: 0.7891 - mean_absolute_error: 0.7891\n",
      "Epoch 277/300\n",
      "8523/8523 [==============================] - 1s 105us/step - loss: 0.7891 - mean_absolute_error: 0.7891\n",
      "Epoch 278/300\n",
      "8523/8523 [==============================] - 1s 101us/step - loss: 0.7891 - mean_absolute_error: 0.7891\n",
      "Epoch 279/300\n"
     ]
    },
    {
     "name": "stdout",
     "output_type": "stream",
     "text": [
      "8523/8523 [==============================] - 1s 101us/step - loss: 0.7891 - mean_absolute_error: 0.7891\n",
      "Epoch 280/300\n",
      "8523/8523 [==============================] - 1s 101us/step - loss: 0.7891 - mean_absolute_error: 0.7891\n",
      "Epoch 281/300\n",
      "8523/8523 [==============================] - 1s 105us/step - loss: 0.7891 - mean_absolute_error: 0.7891\n",
      "Epoch 282/300\n",
      "8523/8523 [==============================] - 1s 101us/step - loss: 0.7891 - mean_absolute_error: 0.7891\n",
      "Epoch 283/300\n",
      "8523/8523 [==============================] - 1s 99us/step - loss: 0.7891 - mean_absolute_error: 0.7891\n",
      "Epoch 284/300\n",
      "8523/8523 [==============================] - 1s 103us/step - loss: 0.7891 - mean_absolute_error: 0.7891\n",
      "Epoch 285/300\n",
      "8523/8523 [==============================] - 1s 101us/step - loss: 0.7891 - mean_absolute_error: 0.7891\n",
      "Epoch 286/300\n",
      "8523/8523 [==============================] - 1s 101us/step - loss: 0.7891 - mean_absolute_error: 0.7891\n",
      "Epoch 287/300\n",
      "8523/8523 [==============================] - 1s 101us/step - loss: 0.7891 - mean_absolute_error: 0.7891\n",
      "Epoch 288/300\n",
      "8523/8523 [==============================] - 1s 101us/step - loss: 0.7891 - mean_absolute_error: 0.7891\n",
      "Epoch 289/300\n",
      "8523/8523 [==============================] - 1s 103us/step - loss: 0.7891 - mean_absolute_error: 0.7891\n",
      "Epoch 290/300\n",
      "8523/8523 [==============================] - 1s 101us/step - loss: 0.7891 - mean_absolute_error: 0.7891\n",
      "Epoch 291/300\n",
      "8523/8523 [==============================] - 1s 99us/step - loss: 0.7891 - mean_absolute_error: 0.7891\n",
      "Epoch 292/300\n",
      "8523/8523 [==============================] - 1s 99us/step - loss: 0.7891 - mean_absolute_error: 0.7891\n",
      "Epoch 293/300\n",
      "8523/8523 [==============================] - 1s 99us/step - loss: 0.7891 - mean_absolute_error: 0.7891\n",
      "Epoch 294/300\n",
      "8523/8523 [==============================] - 1s 101us/step - loss: 0.7891 - mean_absolute_error: 0.7891\n",
      "Epoch 295/300\n",
      "8523/8523 [==============================] - 1s 101us/step - loss: 0.7891 - mean_absolute_error: 0.7891\n",
      "Epoch 296/300\n",
      "8523/8523 [==============================] - 1s 99us/step - loss: 0.7891 - mean_absolute_error: 0.7891\n",
      "Epoch 297/300\n",
      "8523/8523 [==============================] - 1s 105us/step - loss: 0.7891 - mean_absolute_error: 0.7891\n",
      "Epoch 298/300\n",
      "8523/8523 [==============================] - 1s 99us/step - loss: 0.7891 - mean_absolute_error: 0.7891\n",
      "Epoch 299/300\n",
      "8523/8523 [==============================] - 1s 99us/step - loss: 0.7891 - mean_absolute_error: 0.7891\n",
      "Epoch 300/300\n",
      "8523/8523 [==============================] - 1s 101us/step - loss: 0.7891 - mean_absolute_error: 0.7891\n"
     ]
    },
    {
     "data": {
      "text/plain": [
       "<keras.callbacks.History at 0x208386ccc50>"
      ]
     },
     "execution_count": 109,
     "metadata": {},
     "output_type": "execute_result"
    }
   ],
   "source": [
    "# Fitting the ANN to the Training set\n",
    "Regressor.fit(x, y, batch_size = 10, epochs = 300)"
   ]
  },
  {
   "cell_type": "code",
   "execution_count": 111,
   "metadata": {},
   "outputs": [],
   "source": [
    "# Part 3 - Making predictions and evaluating the model\n",
    "\n",
    "# Predicting the Test set results\n",
    "pred = Regressor.predict(scaled_test)\n",
    "\n"
   ]
  },
  {
   "cell_type": "code",
   "execution_count": 112,
   "metadata": {},
   "outputs": [
    {
     "data": {
      "text/plain": [
       "array([[0.],\n",
       "       [0.],\n",
       "       [0.],\n",
       "       ...,\n",
       "       [0.],\n",
       "       [0.],\n",
       "       [0.]], dtype=float32)"
      ]
     },
     "execution_count": 112,
     "metadata": {},
     "output_type": "execute_result"
    }
   ],
   "source": [
    "pred"
   ]
  },
  {
   "cell_type": "code",
   "execution_count": 113,
   "metadata": {},
   "outputs": [],
   "source": [
    "save = sc.fit_transform(pd.DataFrame(train.Item_Outlet_Sales))"
   ]
  },
  {
   "cell_type": "code",
   "execution_count": 114,
   "metadata": {},
   "outputs": [],
   "source": [
    "sale = sc.inverse_transform(pred)"
   ]
  },
  {
   "cell_type": "code",
   "execution_count": 115,
   "metadata": {},
   "outputs": [
    {
     "name": "stdout",
     "output_type": "stream",
     "text": [
      "[[2181.2888]\n",
      " [2181.2888]\n",
      " [2181.2888]\n",
      " ...\n",
      " [2181.2888]\n",
      " [2181.2888]\n",
      " [2181.2888]]\n"
     ]
    }
   ],
   "source": [
    "print(sale)"
   ]
  },
  {
   "cell_type": "code",
   "execution_count": 125,
   "metadata": {},
   "outputs": [],
   "source": [
    "rf = RandomForestRegressor()"
   ]
  },
  {
   "cell_type": "code",
   "execution_count": 126,
   "metadata": {},
   "outputs": [
    {
     "name": "stderr",
     "output_type": "stream",
     "text": [
      "C:\\Users\\Rachit\\Anaconda3\\lib\\site-packages\\sklearn\\ensemble\\forest.py:246: FutureWarning: The default value of n_estimators will change from 10 in version 0.20 to 100 in 0.22.\n",
      "  \"10 in version 0.20 to 100 in 0.22.\", FutureWarning)\n"
     ]
    }
   ],
   "source": [
    "model = rf.fit(x,y).predict(scaled_test)"
   ]
  },
  {
   "cell_type": "code",
   "execution_count": 127,
   "metadata": {},
   "outputs": [
    {
     "data": {
      "text/plain": [
       "array([-0.36836434, -0.35876596, -0.97649619, ..., -0.39680834,\n",
       "        0.86545737, -0.21638991])"
      ]
     },
     "execution_count": 127,
     "metadata": {},
     "output_type": "execute_result"
    }
   ],
   "source": [
    "model"
   ]
  },
  {
   "cell_type": "code",
   "execution_count": 128,
   "metadata": {},
   "outputs": [],
   "source": [
    "save = sc.fit_transform(pd.DataFrame(train.Item_Outlet_Sales))"
   ]
  },
  {
   "cell_type": "code",
   "execution_count": 130,
   "metadata": {},
   "outputs": [],
   "source": [
    "sale2 = sc.inverse_transform(model)"
   ]
  },
  {
   "cell_type": "code",
   "execution_count": 131,
   "metadata": {},
   "outputs": [
    {
     "data": {
      "text/plain": [
       "array([1552.71218, 1569.09086,  514.9963 , ..., 1504.17536, 3658.10494,\n",
       "       1812.04128])"
      ]
     },
     "execution_count": 131,
     "metadata": {},
     "output_type": "execute_result"
    }
   ],
   "source": [
    "sale2"
   ]
  },
  {
   "cell_type": "code",
   "execution_count": 133,
   "metadata": {},
   "outputs": [],
   "source": [
    "# Sales Dataframe\n",
    "solution = pd.DataFrame({\"Item_Identifier\": test.Item_Identifier, \n",
    "                        \"Outlet_Identifier\": test.Outlet_Identifier,\n",
    "                        \"Item_Outlet_Sales\": sale2})"
   ]
  },
  {
   "cell_type": "code",
   "execution_count": 134,
   "metadata": {},
   "outputs": [
    {
     "data": {
      "text/html": [
       "<div>\n",
       "<style scoped>\n",
       "    .dataframe tbody tr th:only-of-type {\n",
       "        vertical-align: middle;\n",
       "    }\n",
       "\n",
       "    .dataframe tbody tr th {\n",
       "        vertical-align: top;\n",
       "    }\n",
       "\n",
       "    .dataframe thead th {\n",
       "        text-align: right;\n",
       "    }\n",
       "</style>\n",
       "<table border=\"1\" class=\"dataframe\">\n",
       "  <thead>\n",
       "    <tr style=\"text-align: right;\">\n",
       "      <th></th>\n",
       "      <th>Item_Identifier</th>\n",
       "      <th>Outlet_Identifier</th>\n",
       "      <th>Item_Outlet_Sales</th>\n",
       "    </tr>\n",
       "  </thead>\n",
       "  <tbody>\n",
       "    <tr>\n",
       "      <th>0</th>\n",
       "      <td>FDW58</td>\n",
       "      <td>OUT049</td>\n",
       "      <td>1552.71218</td>\n",
       "    </tr>\n",
       "    <tr>\n",
       "      <th>1</th>\n",
       "      <td>FDW14</td>\n",
       "      <td>OUT017</td>\n",
       "      <td>1569.09086</td>\n",
       "    </tr>\n",
       "    <tr>\n",
       "      <th>2</th>\n",
       "      <td>NCN55</td>\n",
       "      <td>OUT010</td>\n",
       "      <td>514.99630</td>\n",
       "    </tr>\n",
       "    <tr>\n",
       "      <th>3</th>\n",
       "      <td>FDQ58</td>\n",
       "      <td>OUT017</td>\n",
       "      <td>2023.49936</td>\n",
       "    </tr>\n",
       "    <tr>\n",
       "      <th>4</th>\n",
       "      <td>FDY38</td>\n",
       "      <td>OUT027</td>\n",
       "      <td>6878.18006</td>\n",
       "    </tr>\n",
       "  </tbody>\n",
       "</table>\n",
       "</div>"
      ],
      "text/plain": [
       "  Item_Identifier Outlet_Identifier  Item_Outlet_Sales\n",
       "0           FDW58            OUT049         1552.71218\n",
       "1           FDW14            OUT017         1569.09086\n",
       "2           NCN55            OUT010          514.99630\n",
       "3           FDQ58            OUT017         2023.49936\n",
       "4           FDY38            OUT027         6878.18006"
      ]
     },
     "execution_count": 134,
     "metadata": {},
     "output_type": "execute_result"
    }
   ],
   "source": [
    "solution.head()"
   ]
  },
  {
   "cell_type": "code",
   "execution_count": 135,
   "metadata": {},
   "outputs": [],
   "source": [
    "solution.to_csv(\"RF87.csv\", index = False)\n"
   ]
  }
 ],
 "metadata": {
  "kernelspec": {
   "display_name": "Python 3",
   "language": "python",
   "name": "python3"
  },
  "language_info": {
   "codemirror_mode": {
    "name": "ipython",
    "version": 3
   },
   "file_extension": ".py",
   "mimetype": "text/x-python",
   "name": "python",
   "nbconvert_exporter": "python",
   "pygments_lexer": "ipython3",
   "version": "3.7.3"
  }
 },
 "nbformat": 4,
 "nbformat_minor": 2
}
